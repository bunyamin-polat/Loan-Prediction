{
 "cells": [
  {
   "cell_type": "code",
   "execution_count": 143,
   "metadata": {},
   "outputs": [],
   "source": [
    "import pandas as pd\n",
    "import matplotlib.pyplot as plt\n",
    "%matplotlib inline\n",
    "pd.set_option(\"display.max_columns\",100)\n",
    "import warnings\n",
    "warnings.simplefilter('ignore')"
   ]
  },
  {
   "cell_type": "code",
   "execution_count": 144,
   "metadata": {},
   "outputs": [],
   "source": [
    "#Veriyi yüklüyoruz\n",
    "df=pd.read_csv('LoansTrainingSet.csv')"
   ]
  },
  {
   "cell_type": "markdown",
   "metadata": {},
   "source": [
    "# EDA işlemlerini yapıyoruz"
   ]
  },
  {
   "cell_type": "code",
   "execution_count": 145,
   "metadata": {},
   "outputs": [
    {
     "data": {
      "text/html": [
       "<div>\n",
       "<style scoped>\n",
       "    .dataframe tbody tr th:only-of-type {\n",
       "        vertical-align: middle;\n",
       "    }\n",
       "\n",
       "    .dataframe tbody tr th {\n",
       "        vertical-align: top;\n",
       "    }\n",
       "\n",
       "    .dataframe thead th {\n",
       "        text-align: right;\n",
       "    }\n",
       "</style>\n",
       "<table border=\"1\" class=\"dataframe\">\n",
       "  <thead>\n",
       "    <tr style=\"text-align: right;\">\n",
       "      <th></th>\n",
       "      <th>Loan ID</th>\n",
       "      <th>Customer ID</th>\n",
       "      <th>Loan Status</th>\n",
       "      <th>Current Loan Amount</th>\n",
       "      <th>Term</th>\n",
       "      <th>Credit Score</th>\n",
       "      <th>Years in current job</th>\n",
       "      <th>Home Ownership</th>\n",
       "      <th>Annual Income</th>\n",
       "      <th>Purpose</th>\n",
       "      <th>Monthly Debt</th>\n",
       "      <th>Years of Credit History</th>\n",
       "      <th>Months since last delinquent</th>\n",
       "      <th>Number of Open Accounts</th>\n",
       "      <th>Number of Credit Problems</th>\n",
       "      <th>Current Credit Balance</th>\n",
       "      <th>Maximum Open Credit</th>\n",
       "      <th>Bankruptcies</th>\n",
       "      <th>Tax Liens</th>\n",
       "    </tr>\n",
       "  </thead>\n",
       "  <tbody>\n",
       "    <tr>\n",
       "      <th>0</th>\n",
       "      <td>000025bb-5694-4cff-b17d-192b1a98ba44</td>\n",
       "      <td>5ebc8bb1-5eb9-4404-b11b-a6eebc401a19</td>\n",
       "      <td>Fully Paid</td>\n",
       "      <td>11520</td>\n",
       "      <td>Short Term</td>\n",
       "      <td>741.0</td>\n",
       "      <td>10+ years</td>\n",
       "      <td>Home Mortgage</td>\n",
       "      <td>33694.0</td>\n",
       "      <td>Debt Consolidation</td>\n",
       "      <td>$584.03</td>\n",
       "      <td>12.3</td>\n",
       "      <td>41.0</td>\n",
       "      <td>10</td>\n",
       "      <td>0</td>\n",
       "      <td>6760</td>\n",
       "      <td>16056</td>\n",
       "      <td>0.0</td>\n",
       "      <td>0.0</td>\n",
       "    </tr>\n",
       "    <tr>\n",
       "      <th>1</th>\n",
       "      <td>00002c49-3a29-4bd4-8f67-c8f8fbc1048c</td>\n",
       "      <td>927b388d-2e01-423f-a8dc-f7e42d668f46</td>\n",
       "      <td>Fully Paid</td>\n",
       "      <td>3441</td>\n",
       "      <td>Short Term</td>\n",
       "      <td>734.0</td>\n",
       "      <td>4 years</td>\n",
       "      <td>Home Mortgage</td>\n",
       "      <td>42269.0</td>\n",
       "      <td>other</td>\n",
       "      <td>$1,106.04</td>\n",
       "      <td>26.3</td>\n",
       "      <td>NaN</td>\n",
       "      <td>17</td>\n",
       "      <td>0</td>\n",
       "      <td>6262</td>\n",
       "      <td>19149</td>\n",
       "      <td>0.0</td>\n",
       "      <td>0.0</td>\n",
       "    </tr>\n",
       "    <tr>\n",
       "      <th>2</th>\n",
       "      <td>00002d89-27f3-409b-aa76-90834f359a65</td>\n",
       "      <td>defce609-c631-447d-aad6-1270615e89c4</td>\n",
       "      <td>Fully Paid</td>\n",
       "      <td>21029</td>\n",
       "      <td>Short Term</td>\n",
       "      <td>747.0</td>\n",
       "      <td>10+ years</td>\n",
       "      <td>Home Mortgage</td>\n",
       "      <td>90126.0</td>\n",
       "      <td>Debt Consolidation</td>\n",
       "      <td>$1,321.85</td>\n",
       "      <td>28.8</td>\n",
       "      <td>NaN</td>\n",
       "      <td>5</td>\n",
       "      <td>0</td>\n",
       "      <td>20967</td>\n",
       "      <td>28335</td>\n",
       "      <td>0.0</td>\n",
       "      <td>0.0</td>\n",
       "    </tr>\n",
       "    <tr>\n",
       "      <th>3</th>\n",
       "      <td>00005222-b4d8-45a4-ad8c-186057e24233</td>\n",
       "      <td>070bcecb-aae7-4485-a26a-e0403e7bb6c5</td>\n",
       "      <td>Fully Paid</td>\n",
       "      <td>18743</td>\n",
       "      <td>Short Term</td>\n",
       "      <td>747.0</td>\n",
       "      <td>10+ years</td>\n",
       "      <td>Own Home</td>\n",
       "      <td>38072.0</td>\n",
       "      <td>Debt Consolidation</td>\n",
       "      <td>$751.92</td>\n",
       "      <td>26.2</td>\n",
       "      <td>NaN</td>\n",
       "      <td>9</td>\n",
       "      <td>0</td>\n",
       "      <td>22529</td>\n",
       "      <td>43915</td>\n",
       "      <td>0.0</td>\n",
       "      <td>0.0</td>\n",
       "    </tr>\n",
       "    <tr>\n",
       "      <th>4</th>\n",
       "      <td>0000757f-a121-41ed-b17b-162e76647c1f</td>\n",
       "      <td>dde79588-12f0-4811-bab0-e2b07f633fcd</td>\n",
       "      <td>Fully Paid</td>\n",
       "      <td>11731</td>\n",
       "      <td>Short Term</td>\n",
       "      <td>746.0</td>\n",
       "      <td>4 years</td>\n",
       "      <td>Rent</td>\n",
       "      <td>50025.0</td>\n",
       "      <td>Debt Consolidation</td>\n",
       "      <td>$355.18</td>\n",
       "      <td>11.5</td>\n",
       "      <td>NaN</td>\n",
       "      <td>12</td>\n",
       "      <td>0</td>\n",
       "      <td>17391</td>\n",
       "      <td>37081</td>\n",
       "      <td>0.0</td>\n",
       "      <td>0.0</td>\n",
       "    </tr>\n",
       "  </tbody>\n",
       "</table>\n",
       "</div>"
      ],
      "text/plain": [
       "                                Loan ID                           Customer ID  \\\n",
       "0  000025bb-5694-4cff-b17d-192b1a98ba44  5ebc8bb1-5eb9-4404-b11b-a6eebc401a19   \n",
       "1  00002c49-3a29-4bd4-8f67-c8f8fbc1048c  927b388d-2e01-423f-a8dc-f7e42d668f46   \n",
       "2  00002d89-27f3-409b-aa76-90834f359a65  defce609-c631-447d-aad6-1270615e89c4   \n",
       "3  00005222-b4d8-45a4-ad8c-186057e24233  070bcecb-aae7-4485-a26a-e0403e7bb6c5   \n",
       "4  0000757f-a121-41ed-b17b-162e76647c1f  dde79588-12f0-4811-bab0-e2b07f633fcd   \n",
       "\n",
       "  Loan Status  Current Loan Amount        Term  Credit Score  \\\n",
       "0  Fully Paid                11520  Short Term         741.0   \n",
       "1  Fully Paid                 3441  Short Term         734.0   \n",
       "2  Fully Paid                21029  Short Term         747.0   \n",
       "3  Fully Paid                18743  Short Term         747.0   \n",
       "4  Fully Paid                11731  Short Term         746.0   \n",
       "\n",
       "  Years in current job Home Ownership  Annual Income             Purpose  \\\n",
       "0            10+ years  Home Mortgage        33694.0  Debt Consolidation   \n",
       "1              4 years  Home Mortgage        42269.0               other   \n",
       "2            10+ years  Home Mortgage        90126.0  Debt Consolidation   \n",
       "3            10+ years       Own Home        38072.0  Debt Consolidation   \n",
       "4              4 years           Rent        50025.0  Debt Consolidation   \n",
       "\n",
       "  Monthly Debt  Years of Credit History  Months since last delinquent  \\\n",
       "0      $584.03                     12.3                          41.0   \n",
       "1   $1,106.04                      26.3                           NaN   \n",
       "2   $1,321.85                      28.8                           NaN   \n",
       "3      $751.92                     26.2                           NaN   \n",
       "4      $355.18                     11.5                           NaN   \n",
       "\n",
       "   Number of Open Accounts  Number of Credit Problems  Current Credit Balance  \\\n",
       "0                       10                          0                    6760   \n",
       "1                       17                          0                    6262   \n",
       "2                        5                          0                   20967   \n",
       "3                        9                          0                   22529   \n",
       "4                       12                          0                   17391   \n",
       "\n",
       "  Maximum Open Credit  Bankruptcies  Tax Liens  \n",
       "0               16056           0.0        0.0  \n",
       "1               19149           0.0        0.0  \n",
       "2               28335           0.0        0.0  \n",
       "3               43915           0.0        0.0  \n",
       "4               37081           0.0        0.0  "
      ]
     },
     "execution_count": 145,
     "metadata": {},
     "output_type": "execute_result"
    }
   ],
   "source": [
    "df.head()"
   ]
  },
  {
   "cell_type": "code",
   "execution_count": 146,
   "metadata": {},
   "outputs": [
    {
     "data": {
      "text/html": [
       "<div>\n",
       "<style scoped>\n",
       "    .dataframe tbody tr th:only-of-type {\n",
       "        vertical-align: middle;\n",
       "    }\n",
       "\n",
       "    .dataframe tbody tr th {\n",
       "        vertical-align: top;\n",
       "    }\n",
       "\n",
       "    .dataframe thead th {\n",
       "        text-align: right;\n",
       "    }\n",
       "</style>\n",
       "<table border=\"1\" class=\"dataframe\">\n",
       "  <thead>\n",
       "    <tr style=\"text-align: right;\">\n",
       "      <th></th>\n",
       "      <th>Loan ID</th>\n",
       "      <th>Customer ID</th>\n",
       "      <th>Loan Status</th>\n",
       "      <th>Current Loan Amount</th>\n",
       "      <th>Term</th>\n",
       "      <th>Credit Score</th>\n",
       "      <th>Years in current job</th>\n",
       "      <th>Home Ownership</th>\n",
       "      <th>Annual Income</th>\n",
       "      <th>Purpose</th>\n",
       "      <th>Monthly Debt</th>\n",
       "      <th>Years of Credit History</th>\n",
       "      <th>Months since last delinquent</th>\n",
       "      <th>Number of Open Accounts</th>\n",
       "      <th>Number of Credit Problems</th>\n",
       "      <th>Current Credit Balance</th>\n",
       "      <th>Maximum Open Credit</th>\n",
       "      <th>Bankruptcies</th>\n",
       "      <th>Tax Liens</th>\n",
       "    </tr>\n",
       "  </thead>\n",
       "  <tbody>\n",
       "    <tr>\n",
       "      <th>256979</th>\n",
       "      <td>fffef5b7-be99-4666-ac70-2a397d2ee435</td>\n",
       "      <td>7211a8e3-cba4-4132-b939-222eed8a662c</td>\n",
       "      <td>Fully Paid</td>\n",
       "      <td>3911</td>\n",
       "      <td>Short Term</td>\n",
       "      <td>NaN</td>\n",
       "      <td>2 years</td>\n",
       "      <td>Rent</td>\n",
       "      <td>NaN</td>\n",
       "      <td>Debt Consolidation</td>\n",
       "      <td>$1,706.58</td>\n",
       "      <td>19.9</td>\n",
       "      <td>NaN</td>\n",
       "      <td>16</td>\n",
       "      <td>0</td>\n",
       "      <td>43992</td>\n",
       "      <td>44080</td>\n",
       "      <td>0.0</td>\n",
       "      <td>0.0</td>\n",
       "    </tr>\n",
       "    <tr>\n",
       "      <th>256980</th>\n",
       "      <td>ffffca93-aa8c-4123-b8ff-7852f6df889a</td>\n",
       "      <td>616fef0c-8f09-4327-9b5c-48fcfaa52934</td>\n",
       "      <td>Fully Paid</td>\n",
       "      <td>5078</td>\n",
       "      <td>Short Term</td>\n",
       "      <td>737.0</td>\n",
       "      <td>10+ years</td>\n",
       "      <td>Own Home</td>\n",
       "      <td>77186.0</td>\n",
       "      <td>Debt Consolidation</td>\n",
       "      <td>$1,376.47</td>\n",
       "      <td>19.1</td>\n",
       "      <td>47.0</td>\n",
       "      <td>9</td>\n",
       "      <td>0</td>\n",
       "      <td>1717</td>\n",
       "      <td>9758</td>\n",
       "      <td>0.0</td>\n",
       "      <td>0.0</td>\n",
       "    </tr>\n",
       "    <tr>\n",
       "      <th>256981</th>\n",
       "      <td>ffffcb2e-e48e-4d2c-a0d6-ed6bce5bfdbe</td>\n",
       "      <td>971a6682-183b-4a52-8bce-1d3429ade295</td>\n",
       "      <td>Charged Off</td>\n",
       "      <td>12116</td>\n",
       "      <td>Short Term</td>\n",
       "      <td>7460.0</td>\n",
       "      <td>9 years</td>\n",
       "      <td>Home Mortgage</td>\n",
       "      <td>52504.0</td>\n",
       "      <td>Debt Consolidation</td>\n",
       "      <td>$297.96</td>\n",
       "      <td>15.1</td>\n",
       "      <td>82.0</td>\n",
       "      <td>8</td>\n",
       "      <td>0</td>\n",
       "      <td>3315</td>\n",
       "      <td>20090</td>\n",
       "      <td>0.0</td>\n",
       "      <td>0.0</td>\n",
       "    </tr>\n",
       "    <tr>\n",
       "      <th>256982</th>\n",
       "      <td>ffffcb2e-e48e-4d2c-a0d6-ed6bce5bfdbe</td>\n",
       "      <td>971a6682-183b-4a52-8bce-1d3429ade295</td>\n",
       "      <td>Charged Off</td>\n",
       "      <td>12116</td>\n",
       "      <td>Short Term</td>\n",
       "      <td>746.0</td>\n",
       "      <td>9 years</td>\n",
       "      <td>Home Mortgage</td>\n",
       "      <td>52504.0</td>\n",
       "      <td>Debt Consolidation</td>\n",
       "      <td>$297.96</td>\n",
       "      <td>15.1</td>\n",
       "      <td>82.0</td>\n",
       "      <td>8</td>\n",
       "      <td>0</td>\n",
       "      <td>3315</td>\n",
       "      <td>20090</td>\n",
       "      <td>0.0</td>\n",
       "      <td>0.0</td>\n",
       "    </tr>\n",
       "    <tr>\n",
       "      <th>256983</th>\n",
       "      <td>ffffe32e-ed17-459f-9cfd-7b9ee7972933</td>\n",
       "      <td>97281336-1e45-41d2-acb2-263ce56a590e</td>\n",
       "      <td>Fully Paid</td>\n",
       "      <td>27902</td>\n",
       "      <td>Long Term</td>\n",
       "      <td>678.0</td>\n",
       "      <td>10+ years</td>\n",
       "      <td>Home Mortgage</td>\n",
       "      <td>117480.0</td>\n",
       "      <td>Debt Consolidation</td>\n",
       "      <td>$2,525.82</td>\n",
       "      <td>18.0</td>\n",
       "      <td>11.0</td>\n",
       "      <td>10</td>\n",
       "      <td>0</td>\n",
       "      <td>28317</td>\n",
       "      <td>62371</td>\n",
       "      <td>0.0</td>\n",
       "      <td>0.0</td>\n",
       "    </tr>\n",
       "  </tbody>\n",
       "</table>\n",
       "</div>"
      ],
      "text/plain": [
       "                                     Loan ID  \\\n",
       "256979  fffef5b7-be99-4666-ac70-2a397d2ee435   \n",
       "256980  ffffca93-aa8c-4123-b8ff-7852f6df889a   \n",
       "256981  ffffcb2e-e48e-4d2c-a0d6-ed6bce5bfdbe   \n",
       "256982  ffffcb2e-e48e-4d2c-a0d6-ed6bce5bfdbe   \n",
       "256983  ffffe32e-ed17-459f-9cfd-7b9ee7972933   \n",
       "\n",
       "                                 Customer ID  Loan Status  \\\n",
       "256979  7211a8e3-cba4-4132-b939-222eed8a662c   Fully Paid   \n",
       "256980  616fef0c-8f09-4327-9b5c-48fcfaa52934   Fully Paid   \n",
       "256981  971a6682-183b-4a52-8bce-1d3429ade295  Charged Off   \n",
       "256982  971a6682-183b-4a52-8bce-1d3429ade295  Charged Off   \n",
       "256983  97281336-1e45-41d2-acb2-263ce56a590e   Fully Paid   \n",
       "\n",
       "        Current Loan Amount        Term  Credit Score Years in current job  \\\n",
       "256979                 3911  Short Term           NaN              2 years   \n",
       "256980                 5078  Short Term         737.0            10+ years   \n",
       "256981                12116  Short Term        7460.0              9 years   \n",
       "256982                12116  Short Term         746.0              9 years   \n",
       "256983                27902   Long Term         678.0            10+ years   \n",
       "\n",
       "       Home Ownership  Annual Income             Purpose Monthly Debt  \\\n",
       "256979           Rent            NaN  Debt Consolidation   $1,706.58    \n",
       "256980       Own Home        77186.0  Debt Consolidation   $1,376.47    \n",
       "256981  Home Mortgage        52504.0  Debt Consolidation      $297.96   \n",
       "256982  Home Mortgage        52504.0  Debt Consolidation      $297.96   \n",
       "256983  Home Mortgage       117480.0  Debt Consolidation   $2,525.82    \n",
       "\n",
       "        Years of Credit History  Months since last delinquent  \\\n",
       "256979                     19.9                           NaN   \n",
       "256980                     19.1                          47.0   \n",
       "256981                     15.1                          82.0   \n",
       "256982                     15.1                          82.0   \n",
       "256983                     18.0                          11.0   \n",
       "\n",
       "        Number of Open Accounts  Number of Credit Problems  \\\n",
       "256979                       16                          0   \n",
       "256980                        9                          0   \n",
       "256981                        8                          0   \n",
       "256982                        8                          0   \n",
       "256983                       10                          0   \n",
       "\n",
       "        Current Credit Balance Maximum Open Credit  Bankruptcies  Tax Liens  \n",
       "256979                   43992               44080           0.0        0.0  \n",
       "256980                    1717                9758           0.0        0.0  \n",
       "256981                    3315               20090           0.0        0.0  \n",
       "256982                    3315               20090           0.0        0.0  \n",
       "256983                   28317               62371           0.0        0.0  "
      ]
     },
     "execution_count": 146,
     "metadata": {},
     "output_type": "execute_result"
    }
   ],
   "source": [
    "df.tail()"
   ]
  },
  {
   "cell_type": "code",
   "execution_count": 147,
   "metadata": {},
   "outputs": [
    {
     "name": "stdout",
     "output_type": "stream",
     "text": [
      "<class 'pandas.core.frame.DataFrame'>\n",
      "RangeIndex: 256984 entries, 0 to 256983\n",
      "Data columns (total 19 columns):\n",
      " #   Column                        Non-Null Count   Dtype  \n",
      "---  ------                        --------------   -----  \n",
      " 0   Loan ID                       256984 non-null  object \n",
      " 1   Customer ID                   256984 non-null  object \n",
      " 2   Loan Status                   256984 non-null  object \n",
      " 3   Current Loan Amount           256984 non-null  int64  \n",
      " 4   Term                          256984 non-null  object \n",
      " 5   Credit Score                  195308 non-null  float64\n",
      " 6   Years in current job          245508 non-null  object \n",
      " 7   Home Ownership                256984 non-null  object \n",
      " 8   Annual Income                 195308 non-null  float64\n",
      " 9   Purpose                       256984 non-null  object \n",
      " 10  Monthly Debt                  256984 non-null  object \n",
      " 11  Years of Credit History       256984 non-null  float64\n",
      " 12  Months since last delinquent  116601 non-null  float64\n",
      " 13  Number of Open Accounts       256984 non-null  int64  \n",
      " 14  Number of Credit Problems     256984 non-null  int64  \n",
      " 15  Current Credit Balance        256984 non-null  int64  \n",
      " 16  Maximum Open Credit           256984 non-null  object \n",
      " 17  Bankruptcies                  256455 non-null  float64\n",
      " 18  Tax Liens                     256961 non-null  float64\n",
      "dtypes: float64(6), int64(4), object(9)\n",
      "memory usage: 37.3+ MB\n"
     ]
    }
   ],
   "source": [
    "df.info()"
   ]
  },
  {
   "cell_type": "code",
   "execution_count": 148,
   "metadata": {},
   "outputs": [
    {
     "data": {
      "text/plain": [
       "Loan ID                              0\n",
       "Customer ID                          0\n",
       "Loan Status                          0\n",
       "Current Loan Amount                  0\n",
       "Term                                 0\n",
       "Credit Score                     61676\n",
       "Years in current job             11476\n",
       "Home Ownership                       0\n",
       "Annual Income                    61676\n",
       "Purpose                              0\n",
       "Monthly Debt                         0\n",
       "Years of Credit History              0\n",
       "Months since last delinquent    140383\n",
       "Number of Open Accounts              0\n",
       "Number of Credit Problems            0\n",
       "Current Credit Balance               0\n",
       "Maximum Open Credit                  0\n",
       "Bankruptcies                       529\n",
       "Tax Liens                           23\n",
       "dtype: int64"
      ]
     },
     "execution_count": 148,
     "metadata": {},
     "output_type": "execute_result"
    }
   ],
   "source": [
    "df.isnull().sum()"
   ]
  },
  {
   "cell_type": "markdown",
   "metadata": {},
   "source": [
    "## \"Loan Status\" sütunu işlemleri"
   ]
  },
  {
   "cell_type": "code",
   "execution_count": 149,
   "metadata": {},
   "outputs": [
    {
     "data": {
      "text/plain": [
       "array(['Fully Paid', 'Charged Off'], dtype=object)"
      ]
     },
     "execution_count": 149,
     "metadata": {},
     "output_type": "execute_result"
    }
   ],
   "source": [
    "#Tekil değerlere bakıyoruz\n",
    "df['Loan Status'].unique()"
   ]
  },
  {
   "cell_type": "code",
   "execution_count": 150,
   "metadata": {},
   "outputs": [],
   "source": [
    "#İki değişkeni 1 ve 0 ile ifade ediyoruz\n",
    "df['Loan Status']=df['Loan Status'].map({'Fully Paid':1,'Charged Off':0})"
   ]
  },
  {
   "cell_type": "markdown",
   "metadata": {},
   "source": [
    "# \"Term\" sütunu işlemleri"
   ]
  },
  {
   "cell_type": "code",
   "execution_count": 151,
   "metadata": {},
   "outputs": [
    {
     "data": {
      "text/plain": [
       "array(['Short Term', 'Long Term'], dtype=object)"
      ]
     },
     "execution_count": 151,
     "metadata": {},
     "output_type": "execute_result"
    }
   ],
   "source": [
    "#Tekil değerlere bakıyoruz\n",
    "df['Term'].unique()"
   ]
  },
  {
   "cell_type": "code",
   "execution_count": 152,
   "metadata": {},
   "outputs": [],
   "source": [
    "#İki değişkeni 1 ve 0 ile ifade ediyoruz\n",
    "df['Term']=df['Term'].map({'Short Term':0,'Long Term':1})"
   ]
  },
  {
   "cell_type": "code",
   "execution_count": 153,
   "metadata": {},
   "outputs": [
    {
     "data": {
      "text/html": [
       "<div>\n",
       "<style scoped>\n",
       "    .dataframe tbody tr th:only-of-type {\n",
       "        vertical-align: middle;\n",
       "    }\n",
       "\n",
       "    .dataframe tbody tr th {\n",
       "        vertical-align: top;\n",
       "    }\n",
       "\n",
       "    .dataframe thead th {\n",
       "        text-align: right;\n",
       "    }\n",
       "</style>\n",
       "<table border=\"1\" class=\"dataframe\">\n",
       "  <thead>\n",
       "    <tr style=\"text-align: right;\">\n",
       "      <th></th>\n",
       "      <th>Loan ID</th>\n",
       "      <th>Customer ID</th>\n",
       "      <th>Loan Status</th>\n",
       "      <th>Current Loan Amount</th>\n",
       "      <th>Term</th>\n",
       "      <th>Credit Score</th>\n",
       "      <th>Years in current job</th>\n",
       "      <th>Home Ownership</th>\n",
       "      <th>Annual Income</th>\n",
       "      <th>Purpose</th>\n",
       "      <th>Monthly Debt</th>\n",
       "      <th>Years of Credit History</th>\n",
       "      <th>Months since last delinquent</th>\n",
       "      <th>Number of Open Accounts</th>\n",
       "      <th>Number of Credit Problems</th>\n",
       "      <th>Current Credit Balance</th>\n",
       "      <th>Maximum Open Credit</th>\n",
       "      <th>Bankruptcies</th>\n",
       "      <th>Tax Liens</th>\n",
       "    </tr>\n",
       "  </thead>\n",
       "  <tbody>\n",
       "    <tr>\n",
       "      <th>0</th>\n",
       "      <td>000025bb-5694-4cff-b17d-192b1a98ba44</td>\n",
       "      <td>5ebc8bb1-5eb9-4404-b11b-a6eebc401a19</td>\n",
       "      <td>1</td>\n",
       "      <td>11520</td>\n",
       "      <td>0</td>\n",
       "      <td>741.0</td>\n",
       "      <td>10+ years</td>\n",
       "      <td>Home Mortgage</td>\n",
       "      <td>33694.0</td>\n",
       "      <td>Debt Consolidation</td>\n",
       "      <td>$584.03</td>\n",
       "      <td>12.3</td>\n",
       "      <td>41.0</td>\n",
       "      <td>10</td>\n",
       "      <td>0</td>\n",
       "      <td>6760</td>\n",
       "      <td>16056</td>\n",
       "      <td>0.0</td>\n",
       "      <td>0.0</td>\n",
       "    </tr>\n",
       "    <tr>\n",
       "      <th>1</th>\n",
       "      <td>00002c49-3a29-4bd4-8f67-c8f8fbc1048c</td>\n",
       "      <td>927b388d-2e01-423f-a8dc-f7e42d668f46</td>\n",
       "      <td>1</td>\n",
       "      <td>3441</td>\n",
       "      <td>0</td>\n",
       "      <td>734.0</td>\n",
       "      <td>4 years</td>\n",
       "      <td>Home Mortgage</td>\n",
       "      <td>42269.0</td>\n",
       "      <td>other</td>\n",
       "      <td>$1,106.04</td>\n",
       "      <td>26.3</td>\n",
       "      <td>NaN</td>\n",
       "      <td>17</td>\n",
       "      <td>0</td>\n",
       "      <td>6262</td>\n",
       "      <td>19149</td>\n",
       "      <td>0.0</td>\n",
       "      <td>0.0</td>\n",
       "    </tr>\n",
       "    <tr>\n",
       "      <th>2</th>\n",
       "      <td>00002d89-27f3-409b-aa76-90834f359a65</td>\n",
       "      <td>defce609-c631-447d-aad6-1270615e89c4</td>\n",
       "      <td>1</td>\n",
       "      <td>21029</td>\n",
       "      <td>0</td>\n",
       "      <td>747.0</td>\n",
       "      <td>10+ years</td>\n",
       "      <td>Home Mortgage</td>\n",
       "      <td>90126.0</td>\n",
       "      <td>Debt Consolidation</td>\n",
       "      <td>$1,321.85</td>\n",
       "      <td>28.8</td>\n",
       "      <td>NaN</td>\n",
       "      <td>5</td>\n",
       "      <td>0</td>\n",
       "      <td>20967</td>\n",
       "      <td>28335</td>\n",
       "      <td>0.0</td>\n",
       "      <td>0.0</td>\n",
       "    </tr>\n",
       "    <tr>\n",
       "      <th>3</th>\n",
       "      <td>00005222-b4d8-45a4-ad8c-186057e24233</td>\n",
       "      <td>070bcecb-aae7-4485-a26a-e0403e7bb6c5</td>\n",
       "      <td>1</td>\n",
       "      <td>18743</td>\n",
       "      <td>0</td>\n",
       "      <td>747.0</td>\n",
       "      <td>10+ years</td>\n",
       "      <td>Own Home</td>\n",
       "      <td>38072.0</td>\n",
       "      <td>Debt Consolidation</td>\n",
       "      <td>$751.92</td>\n",
       "      <td>26.2</td>\n",
       "      <td>NaN</td>\n",
       "      <td>9</td>\n",
       "      <td>0</td>\n",
       "      <td>22529</td>\n",
       "      <td>43915</td>\n",
       "      <td>0.0</td>\n",
       "      <td>0.0</td>\n",
       "    </tr>\n",
       "    <tr>\n",
       "      <th>4</th>\n",
       "      <td>0000757f-a121-41ed-b17b-162e76647c1f</td>\n",
       "      <td>dde79588-12f0-4811-bab0-e2b07f633fcd</td>\n",
       "      <td>1</td>\n",
       "      <td>11731</td>\n",
       "      <td>0</td>\n",
       "      <td>746.0</td>\n",
       "      <td>4 years</td>\n",
       "      <td>Rent</td>\n",
       "      <td>50025.0</td>\n",
       "      <td>Debt Consolidation</td>\n",
       "      <td>$355.18</td>\n",
       "      <td>11.5</td>\n",
       "      <td>NaN</td>\n",
       "      <td>12</td>\n",
       "      <td>0</td>\n",
       "      <td>17391</td>\n",
       "      <td>37081</td>\n",
       "      <td>0.0</td>\n",
       "      <td>0.0</td>\n",
       "    </tr>\n",
       "  </tbody>\n",
       "</table>\n",
       "</div>"
      ],
      "text/plain": [
       "                                Loan ID                           Customer ID  \\\n",
       "0  000025bb-5694-4cff-b17d-192b1a98ba44  5ebc8bb1-5eb9-4404-b11b-a6eebc401a19   \n",
       "1  00002c49-3a29-4bd4-8f67-c8f8fbc1048c  927b388d-2e01-423f-a8dc-f7e42d668f46   \n",
       "2  00002d89-27f3-409b-aa76-90834f359a65  defce609-c631-447d-aad6-1270615e89c4   \n",
       "3  00005222-b4d8-45a4-ad8c-186057e24233  070bcecb-aae7-4485-a26a-e0403e7bb6c5   \n",
       "4  0000757f-a121-41ed-b17b-162e76647c1f  dde79588-12f0-4811-bab0-e2b07f633fcd   \n",
       "\n",
       "   Loan Status  Current Loan Amount  Term  Credit Score Years in current job  \\\n",
       "0            1                11520     0         741.0            10+ years   \n",
       "1            1                 3441     0         734.0              4 years   \n",
       "2            1                21029     0         747.0            10+ years   \n",
       "3            1                18743     0         747.0            10+ years   \n",
       "4            1                11731     0         746.0              4 years   \n",
       "\n",
       "  Home Ownership  Annual Income             Purpose Monthly Debt  \\\n",
       "0  Home Mortgage        33694.0  Debt Consolidation      $584.03   \n",
       "1  Home Mortgage        42269.0               other   $1,106.04    \n",
       "2  Home Mortgage        90126.0  Debt Consolidation   $1,321.85    \n",
       "3       Own Home        38072.0  Debt Consolidation      $751.92   \n",
       "4           Rent        50025.0  Debt Consolidation      $355.18   \n",
       "\n",
       "   Years of Credit History  Months since last delinquent  \\\n",
       "0                     12.3                          41.0   \n",
       "1                     26.3                           NaN   \n",
       "2                     28.8                           NaN   \n",
       "3                     26.2                           NaN   \n",
       "4                     11.5                           NaN   \n",
       "\n",
       "   Number of Open Accounts  Number of Credit Problems  Current Credit Balance  \\\n",
       "0                       10                          0                    6760   \n",
       "1                       17                          0                    6262   \n",
       "2                        5                          0                   20967   \n",
       "3                        9                          0                   22529   \n",
       "4                       12                          0                   17391   \n",
       "\n",
       "  Maximum Open Credit  Bankruptcies  Tax Liens  \n",
       "0               16056           0.0        0.0  \n",
       "1               19149           0.0        0.0  \n",
       "2               28335           0.0        0.0  \n",
       "3               43915           0.0        0.0  \n",
       "4               37081           0.0        0.0  "
      ]
     },
     "execution_count": 153,
     "metadata": {},
     "output_type": "execute_result"
    }
   ],
   "source": [
    "df.head()"
   ]
  },
  {
   "cell_type": "markdown",
   "metadata": {},
   "source": [
    "# \"Credit Score\" sütunu işlemleri"
   ]
  },
  {
   "cell_type": "code",
   "execution_count": 154,
   "metadata": {},
   "outputs": [],
   "source": [
    "#kredi skoru 800 den büyük olanları 10 bölüyoruz\n",
    "df[\"Credit Score\"] = df[\"Credit Score\"].apply(lambda x: x / 10 if x > 800 else x)"
   ]
  },
  {
   "cell_type": "code",
   "execution_count": 155,
   "metadata": {},
   "outputs": [
    {
     "data": {
      "text/plain": [
       "61676"
      ]
     },
     "execution_count": 155,
     "metadata": {},
     "output_type": "execute_result"
    }
   ],
   "source": [
    "#Boş veri sayısını buluyoruz\n",
    "df[\"Credit Score\"].isnull().sum()"
   ]
  },
  {
   "cell_type": "code",
   "execution_count": 156,
   "metadata": {},
   "outputs": [],
   "source": [
    "#Boş veriyi dolu verinin ortalaması ile dolduruyoruz\n",
    "df[\"Credit Score\"] =  df[\"Credit Score\"].fillna(df[\"Credit Score\"].mean())"
   ]
  },
  {
   "cell_type": "markdown",
   "metadata": {},
   "source": [
    "# \"Years in current job\" sütunu işlemleri"
   ]
  },
  {
   "cell_type": "code",
   "execution_count": 157,
   "metadata": {},
   "outputs": [
    {
     "data": {
      "text/plain": [
       "array(['10+ years', '4 years', '6 years', '5 years', nan, '3 years',\n",
       "       '2 years', '< 1 year', '1 year', '7 years', '9 years', '8 years'],\n",
       "      dtype=object)"
      ]
     },
     "execution_count": 157,
     "metadata": {},
     "output_type": "execute_result"
    }
   ],
   "source": [
    "#Tekil değerlere baktık\n",
    "df[\"Years in current job\"].unique()"
   ]
  },
  {
   "cell_type": "code",
   "execution_count": 158,
   "metadata": {},
   "outputs": [],
   "source": [
    "#'<1 year' değerini 0.5 olarak değiştiredik\n",
    "df[\"Years in current job\"] = df[\"Years in current job\"].replace(\"< 1 year\", \"0.5\")"
   ]
  },
  {
   "cell_type": "code",
   "execution_count": 159,
   "metadata": {},
   "outputs": [],
   "source": [
    "#Bu sütundaki rakam olmayan karaktaerleri çıkardık\n",
    "df[\"Years in current job\"] =  df[\"Years in current job\"].str.extract(r'(\\d+(\\.\\d+)?)')"
   ]
  },
  {
   "cell_type": "code",
   "execution_count": 160,
   "metadata": {},
   "outputs": [
    {
     "data": {
      "text/plain": [
       "11476"
      ]
     },
     "execution_count": 160,
     "metadata": {},
     "output_type": "execute_result"
    }
   ],
   "source": [
    "#Boş veri sayısına baktık\n",
    "df[\"Years in current job\"].isnull().sum()"
   ]
  },
  {
   "cell_type": "code",
   "execution_count": 162,
   "metadata": {},
   "outputs": [],
   "source": [
    "#Boş verileri 0 ile doldurduk. Çalışmıyor veya daha önce çalışmamış olduğunu kabul ettik\n",
    "df[\"Years in current job\"] =  df[\"Years in current job\"].fillna(0)"
   ]
  },
  {
   "cell_type": "code",
   "execution_count": 164,
   "metadata": {},
   "outputs": [],
   "source": [
    "#Veri türünü inetegera çevirdik\n",
    "df[\"Years in current job\"] =  df[\"Years in current job\"].astype(float)"
   ]
  },
  {
   "cell_type": "code",
   "execution_count": 165,
   "metadata": {
    "collapsed": true
   },
   "outputs": [
    {
     "name": "stdout",
     "output_type": "stream",
     "text": [
      "<class 'pandas.core.frame.DataFrame'>\n",
      "RangeIndex: 256984 entries, 0 to 256983\n",
      "Data columns (total 19 columns):\n",
      " #   Column                        Non-Null Count   Dtype  \n",
      "---  ------                        --------------   -----  \n",
      " 0   Loan ID                       256984 non-null  object \n",
      " 1   Customer ID                   256984 non-null  object \n",
      " 2   Loan Status                   256984 non-null  int64  \n",
      " 3   Current Loan Amount           256984 non-null  int64  \n",
      " 4   Term                          256984 non-null  int64  \n",
      " 5   Credit Score                  256984 non-null  float64\n",
      " 6   Years in current job          256984 non-null  float64\n",
      " 7   Home Ownership                256984 non-null  object \n",
      " 8   Annual Income                 195308 non-null  float64\n",
      " 9   Purpose                       256984 non-null  object \n",
      " 10  Monthly Debt                  256984 non-null  object \n",
      " 11  Years of Credit History       256984 non-null  float64\n",
      " 12  Months since last delinquent  116601 non-null  float64\n",
      " 13  Number of Open Accounts       256984 non-null  int64  \n",
      " 14  Number of Credit Problems     256984 non-null  int64  \n",
      " 15  Current Credit Balance        256984 non-null  int64  \n",
      " 16  Maximum Open Credit           256984 non-null  object \n",
      " 17  Bankruptcies                  256455 non-null  float64\n",
      " 18  Tax Liens                     256961 non-null  float64\n",
      "dtypes: float64(7), int64(6), object(6)\n",
      "memory usage: 37.3+ MB\n"
     ]
    }
   ],
   "source": [
    "df.info()"
   ]
  },
  {
   "cell_type": "markdown",
   "metadata": {},
   "source": [
    "# 'Home Ownership' sütunu işlemleri"
   ]
  },
  {
   "cell_type": "code",
   "execution_count": 88,
   "metadata": {},
   "outputs": [
    {
     "data": {
      "text/plain": [
       "array(['Home Mortgage', 'Own Home', 'Rent', 'HaveMortgage'], dtype=object)"
      ]
     },
     "execution_count": 88,
     "metadata": {},
     "output_type": "execute_result"
    }
   ],
   "source": [
    "#tekil değerlere baktık\n",
    "df['Home Ownership'].unique()"
   ]
  },
  {
   "cell_type": "code",
   "execution_count": 89,
   "metadata": {},
   "outputs": [],
   "source": [
    "#Have Mortgage ile home mortgagei aynı kabul edip have mortgagei home mortgaege olarak değiştirdik\n",
    "df[\"Home Ownership\"] = df[\"Home Ownership\"].replace(\"HaveMortgage\", \"Home Mortgage\")"
   ]
  },
  {
   "cell_type": "code",
   "execution_count": 90,
   "metadata": {},
   "outputs": [
    {
     "data": {
      "text/plain": [
       "array(['Home Mortgage', 'Own Home', 'Rent'], dtype=object)"
      ]
     },
     "execution_count": 90,
     "metadata": {},
     "output_type": "execute_result"
    }
   ],
   "source": [
    "#Tekil dğerler 4 ten 3 e düştü\n",
    "df['Home Ownership'].unique()"
   ]
  },
  {
   "cell_type": "markdown",
   "metadata": {},
   "source": [
    "# \"Annual Income\" sütunu işlemleri"
   ]
  },
  {
   "cell_type": "code",
   "execution_count": 91,
   "metadata": {},
   "outputs": [
    {
     "data": {
      "text/plain": [
       "61676"
      ]
     },
     "execution_count": 91,
     "metadata": {},
     "output_type": "execute_result"
    }
   ],
   "source": [
    "#Boş veri sayısına baktık\n",
    "df[\"Annual Income\"].isnull().sum()"
   ]
  },
  {
   "cell_type": "code",
   "execution_count": 92,
   "metadata": {},
   "outputs": [
    {
     "data": {
      "text/plain": [
       "count    1.953080e+05\n",
       "mean     7.195272e+04\n",
       "std      5.887757e+04\n",
       "min      0.000000e+00\n",
       "25%      4.432100e+04\n",
       "50%      6.124200e+04\n",
       "75%      8.646200e+04\n",
       "max      8.713547e+06\n",
       "Name: Annual Income, dtype: float64"
      ]
     },
     "execution_count": 92,
     "metadata": {},
     "output_type": "execute_result"
    }
   ],
   "source": [
    "#describe ile özet istatistiğine baktık\n",
    "df[\"Annual Income\"].describe()"
   ]
  },
  {
   "cell_type": "code",
   "execution_count": 93,
   "metadata": {},
   "outputs": [],
   "source": [
    "#Boş verileri mevcut verilerin median ı ile doldurduk\n",
    "df[\"Annual Income\"] = df[\"Annual Income\"].fillna(df[\"Annual Income\"].median())"
   ]
  },
  {
   "cell_type": "code",
   "execution_count": 166,
   "metadata": {},
   "outputs": [
    {
     "data": {
      "text/plain": [
       "count    1.953080e+05\n",
       "mean     7.195272e+04\n",
       "std      5.887757e+04\n",
       "min      0.000000e+00\n",
       "25%      4.432100e+04\n",
       "50%      6.124200e+04\n",
       "75%      8.646200e+04\n",
       "max      8.713547e+06\n",
       "Name: Annual Income, dtype: float64"
      ]
     },
     "execution_count": 166,
     "metadata": {},
     "output_type": "execute_result"
    }
   ],
   "source": [
    "#tekardan describe ile özet istatistiğine baktık\n",
    "df[\"Annual Income\"].describe()"
   ]
  },
  {
   "cell_type": "markdown",
   "metadata": {},
   "source": [
    "# \"Purpose\" sütunu işlemleri"
   ]
  },
  {
   "cell_type": "code",
   "execution_count": 95,
   "metadata": {},
   "outputs": [
    {
     "data": {
      "text/plain": [
       "array(['Debt Consolidation', 'other', 'Business Loan',\n",
       "       'Home Improvements', 'Buy House', 'Other', 'Buy a Car',\n",
       "       'Medical Bills', 'Take a Trip', 'Educational Expenses'],\n",
       "      dtype=object)"
      ]
     },
     "execution_count": 95,
     "metadata": {},
     "output_type": "execute_result"
    }
   ],
   "source": [
    "#Tekil değerlere baktık\n",
    "df[\"Purpose\"].unique()"
   ]
  },
  {
   "cell_type": "code",
   "execution_count": 96,
   "metadata": {},
   "outputs": [],
   "source": [
    "#other değerini Other olarak düzelltik\n",
    "df[\"Purpose\"] = df[\"Purpose\"].replace(\"other\", \"Other\")"
   ]
  },
  {
   "cell_type": "code",
   "execution_count": 97,
   "metadata": {},
   "outputs": [
    {
     "data": {
      "text/plain": [
       "0"
      ]
     },
     "execution_count": 97,
     "metadata": {},
     "output_type": "execute_result"
    }
   ],
   "source": [
    "#boş veri sayısını kontrol etttik\n",
    "df[\"Monthly Debt\"].isnull().sum()"
   ]
  },
  {
   "cell_type": "markdown",
   "metadata": {},
   "source": [
    "# \"Monthly Debt\" sütunu işlemleri"
   ]
  },
  {
   "cell_type": "code",
   "execution_count": 98,
   "metadata": {},
   "outputs": [
    {
     "data": {
      "text/plain": [
       "0       $584.03\n",
       "1    $1,106.04 \n",
       "2    $1,321.85 \n",
       "3       $751.92\n",
       "4       $355.18\n",
       "Name: Monthly Debt, dtype: object"
      ]
     },
     "execution_count": 98,
     "metadata": {},
     "output_type": "execute_result"
    }
   ],
   "source": [
    "df[\"Monthly Debt\"].head()"
   ]
  },
  {
   "cell_type": "code",
   "execution_count": 99,
   "metadata": {},
   "outputs": [],
   "source": [
    "#Bu sütundaki verilerdeki , ve $ işaretlerini kaldırdık\n",
    "df[\"Monthly Debt\"] =  df[\"Monthly Debt\"].str.replace(\"$\", \"\").str.replace(\",\", \"\").astype(float)"
   ]
  },
  {
   "cell_type": "code",
   "execution_count": 100,
   "metadata": {},
   "outputs": [
    {
     "data": {
      "text/plain": [
       "0     584.03\n",
       "1    1106.04\n",
       "2    1321.85\n",
       "3     751.92\n",
       "4     355.18\n",
       "Name: Monthly Debt, dtype: float64"
      ]
     },
     "execution_count": 100,
     "metadata": {},
     "output_type": "execute_result"
    }
   ],
   "source": [
    "df[\"Monthly Debt\"].head()"
   ]
  },
  {
   "cell_type": "markdown",
   "metadata": {},
   "source": [
    "# \"Months since last delinquent\" sütunu işlemleri"
   ]
  },
  {
   "cell_type": "code",
   "execution_count": 167,
   "metadata": {},
   "outputs": [
    {
     "data": {
      "text/plain": [
       "140383"
      ]
     },
     "execution_count": 167,
     "metadata": {},
     "output_type": "execute_result"
    }
   ],
   "source": [
    "#boş veri sayısını kontrol etttik\n",
    "df[\"Months since last delinquent\"].isnull().sum()"
   ]
  },
  {
   "cell_type": "code",
   "execution_count": 103,
   "metadata": {},
   "outputs": [],
   "source": [
    "#boş değerleri hiç gecikme yaşanmamıştır kabul ederek 0 ile doldurduk\n",
    "df[\"Months since last delinquent\"]=df[\"Months since last delinquent\"].fillna(0)"
   ]
  },
  {
   "cell_type": "code",
   "execution_count": 104,
   "metadata": {},
   "outputs": [
    {
     "data": {
      "text/plain": [
       "0"
      ]
     },
     "execution_count": 104,
     "metadata": {},
     "output_type": "execute_result"
    }
   ],
   "source": [
    "df[\"Months since last delinquent\"].isnull().sum()"
   ]
  },
  {
   "cell_type": "code",
   "execution_count": 105,
   "metadata": {},
   "outputs": [],
   "source": [
    "#veri türünü integera çevirdik\n",
    "df[\"Months since last delinquent\"]=df[\"Months since last delinquent\"].astype(int)"
   ]
  },
  {
   "cell_type": "markdown",
   "metadata": {},
   "source": [
    "# işlem yapılmayan bazı sütunlar"
   ]
  },
  {
   "cell_type": "code",
   "execution_count": 106,
   "metadata": {},
   "outputs": [
    {
     "data": {
      "text/plain": [
       "0"
      ]
     },
     "execution_count": 106,
     "metadata": {},
     "output_type": "execute_result"
    }
   ],
   "source": [
    "df[\"Number of Open Accounts\"].isnull().sum()"
   ]
  },
  {
   "cell_type": "code",
   "execution_count": 107,
   "metadata": {},
   "outputs": [
    {
     "data": {
      "text/plain": [
       "0"
      ]
     },
     "execution_count": 107,
     "metadata": {},
     "output_type": "execute_result"
    }
   ],
   "source": [
    "df[\"Number of Credit Problems\"].isnull().sum()"
   ]
  },
  {
   "cell_type": "code",
   "execution_count": 101,
   "metadata": {},
   "outputs": [
    {
     "data": {
      "text/plain": [
       "0"
      ]
     },
     "execution_count": 101,
     "metadata": {},
     "output_type": "execute_result"
    }
   ],
   "source": [
    "df[\"Years of Credit History\"].isnull().sum()"
   ]
  },
  {
   "cell_type": "code",
   "execution_count": 108,
   "metadata": {},
   "outputs": [
    {
     "data": {
      "text/plain": [
       "0"
      ]
     },
     "execution_count": 108,
     "metadata": {},
     "output_type": "execute_result"
    }
   ],
   "source": [
    "df[\"Current Credit Balance\"].isnull().sum()"
   ]
  },
  {
   "cell_type": "markdown",
   "metadata": {},
   "source": [
    "# \"Bankruptcies\" sütunu işlemleri"
   ]
  },
  {
   "cell_type": "code",
   "execution_count": 168,
   "metadata": {},
   "outputs": [
    {
     "data": {
      "text/plain": [
       "529"
      ]
     },
     "execution_count": 168,
     "metadata": {},
     "output_type": "execute_result"
    }
   ],
   "source": [
    "#boş verileri kontrol ettik\n",
    "df[\"Bankruptcies\"].isnull().sum()"
   ]
  },
  {
   "cell_type": "code",
   "execution_count": 112,
   "metadata": {},
   "outputs": [
    {
     "data": {
      "text/plain": [
       "count    256455.000000\n",
       "mean          0.110316\n",
       "std           0.336229\n",
       "min           0.000000\n",
       "25%           0.000000\n",
       "50%           0.000000\n",
       "75%           0.000000\n",
       "max           7.000000\n",
       "Name: Bankruptcies, dtype: float64"
      ]
     },
     "execution_count": 112,
     "metadata": {},
     "output_type": "execute_result"
    }
   ],
   "source": [
    "#describe a baktık\n",
    "df[\"Bankruptcies\"].describe()"
   ]
  },
  {
   "cell_type": "code",
   "execution_count": 113,
   "metadata": {},
   "outputs": [],
   "source": [
    "#boş değerleri mevcut değerlerin median ı ile doldurduk\n",
    "df[\"Bankruptcies\"] = df[\"Bankruptcies\"].fillna(df[\"Bankruptcies\"].median())"
   ]
  },
  {
   "cell_type": "code",
   "execution_count": 114,
   "metadata": {},
   "outputs": [
    {
     "data": {
      "text/plain": [
       "count    256984.000000\n",
       "mean          0.110089\n",
       "std           0.335920\n",
       "min           0.000000\n",
       "25%           0.000000\n",
       "50%           0.000000\n",
       "75%           0.000000\n",
       "max           7.000000\n",
       "Name: Bankruptcies, dtype: float64"
      ]
     },
     "execution_count": 114,
     "metadata": {},
     "output_type": "execute_result"
    }
   ],
   "source": [
    "df[\"Bankruptcies\"].describe()"
   ]
  },
  {
   "cell_type": "code",
   "execution_count": 115,
   "metadata": {},
   "outputs": [
    {
     "data": {
      "text/plain": [
       "0"
      ]
     },
     "execution_count": 115,
     "metadata": {},
     "output_type": "execute_result"
    }
   ],
   "source": [
    "df[\"Bankruptcies\"].isnull().sum()"
   ]
  },
  {
   "cell_type": "markdown",
   "metadata": {},
   "source": [
    "# \"Tax Liens\" sütunu işlemleri"
   ]
  },
  {
   "cell_type": "code",
   "execution_count": 116,
   "metadata": {},
   "outputs": [
    {
     "data": {
      "text/plain": [
       "23"
      ]
     },
     "execution_count": 116,
     "metadata": {},
     "output_type": "execute_result"
    }
   ],
   "source": [
    "#describe a baktık\n",
    "df[\"Tax Liens\"].isnull().sum()"
   ]
  },
  {
   "cell_type": "code",
   "execution_count": 117,
   "metadata": {},
   "outputs": [
    {
     "data": {
      "text/plain": [
       "count    256961.000000\n",
       "mean          0.027203\n",
       "std           0.245950\n",
       "min           0.000000\n",
       "25%           0.000000\n",
       "50%           0.000000\n",
       "75%           0.000000\n",
       "max          11.000000\n",
       "Name: Tax Liens, dtype: float64"
      ]
     },
     "execution_count": 117,
     "metadata": {},
     "output_type": "execute_result"
    }
   ],
   "source": [
    "df[\"Tax Liens\"].describe()"
   ]
  },
  {
   "cell_type": "code",
   "execution_count": 118,
   "metadata": {},
   "outputs": [],
   "source": [
    "#boş değerleri mevcut değerlerin median ı ile doldurduk\n",
    "df[\"Tax Liens\"] = df[\"Tax Liens\"].fillna(df[\"Tax Liens\"].median())"
   ]
  },
  {
   "cell_type": "code",
   "execution_count": 119,
   "metadata": {},
   "outputs": [
    {
     "name": "stdout",
     "output_type": "stream",
     "text": [
      "<class 'pandas.core.frame.DataFrame'>\n",
      "RangeIndex: 256984 entries, 0 to 256983\n",
      "Data columns (total 19 columns):\n",
      " #   Column                        Non-Null Count   Dtype  \n",
      "---  ------                        --------------   -----  \n",
      " 0   Loan ID                       256984 non-null  object \n",
      " 1   Customer ID                   256984 non-null  object \n",
      " 2   Loan Status                   256984 non-null  int64  \n",
      " 3   Current Loan Amount           256984 non-null  int64  \n",
      " 4   Term                          256984 non-null  int64  \n",
      " 5   Credit Score                  256984 non-null  float64\n",
      " 6   Years in current job          256984 non-null  float64\n",
      " 7   Home Ownership                256984 non-null  object \n",
      " 8   Annual Income                 256984 non-null  float64\n",
      " 9   Purpose                       256984 non-null  object \n",
      " 10  Monthly Debt                  256984 non-null  float64\n",
      " 11  Years of Credit History       256984 non-null  float64\n",
      " 12  Months since last delinquent  256984 non-null  int32  \n",
      " 13  Number of Open Accounts       256984 non-null  int64  \n",
      " 14  Number of Credit Problems     256984 non-null  int64  \n",
      " 15  Current Credit Balance        256984 non-null  int64  \n",
      " 16  Maximum Open Credit           256984 non-null  object \n",
      " 17  Bankruptcies                  256984 non-null  float64\n",
      " 18  Tax Liens                     256984 non-null  float64\n",
      "dtypes: float64(7), int32(1), int64(6), object(5)\n",
      "memory usage: 36.3+ MB\n"
     ]
    }
   ],
   "source": [
    "#en son veri setimizin sütun bilgilerine bir daha kontrol ettik\n",
    "df.info()"
   ]
  },
  {
   "cell_type": "code",
   "execution_count": 121,
   "metadata": {},
   "outputs": [],
   "source": [
    "#Kullanmayacağımız sütunları drop ettik\n",
    "df.drop([\"Loan ID\", \"Customer ID\",\"Maximum Open Credit\",'Current Credit Balance'], axis = 1, inplace = True)"
   ]
  },
  {
   "cell_type": "code",
   "execution_count": 122,
   "metadata": {},
   "outputs": [
    {
     "data": {
      "text/html": [
       "<div>\n",
       "<style scoped>\n",
       "    .dataframe tbody tr th:only-of-type {\n",
       "        vertical-align: middle;\n",
       "    }\n",
       "\n",
       "    .dataframe tbody tr th {\n",
       "        vertical-align: top;\n",
       "    }\n",
       "\n",
       "    .dataframe thead th {\n",
       "        text-align: right;\n",
       "    }\n",
       "</style>\n",
       "<table border=\"1\" class=\"dataframe\">\n",
       "  <thead>\n",
       "    <tr style=\"text-align: right;\">\n",
       "      <th></th>\n",
       "      <th>Loan Status</th>\n",
       "      <th>Current Loan Amount</th>\n",
       "      <th>Term</th>\n",
       "      <th>Credit Score</th>\n",
       "      <th>Years in current job</th>\n",
       "      <th>Home Ownership</th>\n",
       "      <th>Annual Income</th>\n",
       "      <th>Purpose</th>\n",
       "      <th>Monthly Debt</th>\n",
       "      <th>Years of Credit History</th>\n",
       "      <th>Months since last delinquent</th>\n",
       "      <th>Number of Open Accounts</th>\n",
       "      <th>Number of Credit Problems</th>\n",
       "      <th>Bankruptcies</th>\n",
       "      <th>Tax Liens</th>\n",
       "    </tr>\n",
       "  </thead>\n",
       "  <tbody>\n",
       "    <tr>\n",
       "      <th>0</th>\n",
       "      <td>1</td>\n",
       "      <td>11520</td>\n",
       "      <td>0</td>\n",
       "      <td>741.0</td>\n",
       "      <td>10.0</td>\n",
       "      <td>Home Mortgage</td>\n",
       "      <td>33694.0</td>\n",
       "      <td>Debt Consolidation</td>\n",
       "      <td>584.03</td>\n",
       "      <td>12.3</td>\n",
       "      <td>41</td>\n",
       "      <td>10</td>\n",
       "      <td>0</td>\n",
       "      <td>0.0</td>\n",
       "      <td>0.0</td>\n",
       "    </tr>\n",
       "    <tr>\n",
       "      <th>1</th>\n",
       "      <td>1</td>\n",
       "      <td>3441</td>\n",
       "      <td>0</td>\n",
       "      <td>734.0</td>\n",
       "      <td>4.0</td>\n",
       "      <td>Home Mortgage</td>\n",
       "      <td>42269.0</td>\n",
       "      <td>Other</td>\n",
       "      <td>1106.04</td>\n",
       "      <td>26.3</td>\n",
       "      <td>0</td>\n",
       "      <td>17</td>\n",
       "      <td>0</td>\n",
       "      <td>0.0</td>\n",
       "      <td>0.0</td>\n",
       "    </tr>\n",
       "    <tr>\n",
       "      <th>2</th>\n",
       "      <td>1</td>\n",
       "      <td>21029</td>\n",
       "      <td>0</td>\n",
       "      <td>747.0</td>\n",
       "      <td>10.0</td>\n",
       "      <td>Home Mortgage</td>\n",
       "      <td>90126.0</td>\n",
       "      <td>Debt Consolidation</td>\n",
       "      <td>1321.85</td>\n",
       "      <td>28.8</td>\n",
       "      <td>0</td>\n",
       "      <td>5</td>\n",
       "      <td>0</td>\n",
       "      <td>0.0</td>\n",
       "      <td>0.0</td>\n",
       "    </tr>\n",
       "    <tr>\n",
       "      <th>3</th>\n",
       "      <td>1</td>\n",
       "      <td>18743</td>\n",
       "      <td>0</td>\n",
       "      <td>747.0</td>\n",
       "      <td>10.0</td>\n",
       "      <td>Own Home</td>\n",
       "      <td>38072.0</td>\n",
       "      <td>Debt Consolidation</td>\n",
       "      <td>751.92</td>\n",
       "      <td>26.2</td>\n",
       "      <td>0</td>\n",
       "      <td>9</td>\n",
       "      <td>0</td>\n",
       "      <td>0.0</td>\n",
       "      <td>0.0</td>\n",
       "    </tr>\n",
       "    <tr>\n",
       "      <th>4</th>\n",
       "      <td>1</td>\n",
       "      <td>11731</td>\n",
       "      <td>0</td>\n",
       "      <td>746.0</td>\n",
       "      <td>4.0</td>\n",
       "      <td>Rent</td>\n",
       "      <td>50025.0</td>\n",
       "      <td>Debt Consolidation</td>\n",
       "      <td>355.18</td>\n",
       "      <td>11.5</td>\n",
       "      <td>0</td>\n",
       "      <td>12</td>\n",
       "      <td>0</td>\n",
       "      <td>0.0</td>\n",
       "      <td>0.0</td>\n",
       "    </tr>\n",
       "  </tbody>\n",
       "</table>\n",
       "</div>"
      ],
      "text/plain": [
       "   Loan Status  Current Loan Amount  Term  Credit Score  Years in current job  \\\n",
       "0            1                11520     0         741.0                  10.0   \n",
       "1            1                 3441     0         734.0                   4.0   \n",
       "2            1                21029     0         747.0                  10.0   \n",
       "3            1                18743     0         747.0                  10.0   \n",
       "4            1                11731     0         746.0                   4.0   \n",
       "\n",
       "  Home Ownership  Annual Income             Purpose  Monthly Debt  \\\n",
       "0  Home Mortgage        33694.0  Debt Consolidation        584.03   \n",
       "1  Home Mortgage        42269.0               Other       1106.04   \n",
       "2  Home Mortgage        90126.0  Debt Consolidation       1321.85   \n",
       "3       Own Home        38072.0  Debt Consolidation        751.92   \n",
       "4           Rent        50025.0  Debt Consolidation        355.18   \n",
       "\n",
       "   Years of Credit History  Months since last delinquent  \\\n",
       "0                     12.3                            41   \n",
       "1                     26.3                             0   \n",
       "2                     28.8                             0   \n",
       "3                     26.2                             0   \n",
       "4                     11.5                             0   \n",
       "\n",
       "   Number of Open Accounts  Number of Credit Problems  Bankruptcies  Tax Liens  \n",
       "0                       10                          0           0.0        0.0  \n",
       "1                       17                          0           0.0        0.0  \n",
       "2                        5                          0           0.0        0.0  \n",
       "3                        9                          0           0.0        0.0  \n",
       "4                       12                          0           0.0        0.0  "
      ]
     },
     "execution_count": 122,
     "metadata": {},
     "output_type": "execute_result"
    }
   ],
   "source": [
    "df.head()"
   ]
  },
  {
   "cell_type": "code",
   "execution_count": 132,
   "metadata": {},
   "outputs": [],
   "source": [
    "#kategori değişkenlere dummy variable uyguladık\n",
    "df = pd.get_dummies(df, drop_first = True)"
   ]
  },
  {
   "cell_type": "code",
   "execution_count": 133,
   "metadata": {},
   "outputs": [
    {
     "data": {
      "text/html": [
       "<div>\n",
       "<style scoped>\n",
       "    .dataframe tbody tr th:only-of-type {\n",
       "        vertical-align: middle;\n",
       "    }\n",
       "\n",
       "    .dataframe tbody tr th {\n",
       "        vertical-align: top;\n",
       "    }\n",
       "\n",
       "    .dataframe thead th {\n",
       "        text-align: right;\n",
       "    }\n",
       "</style>\n",
       "<table border=\"1\" class=\"dataframe\">\n",
       "  <thead>\n",
       "    <tr style=\"text-align: right;\">\n",
       "      <th></th>\n",
       "      <th>Loan Status</th>\n",
       "      <th>Current Loan Amount</th>\n",
       "      <th>Term</th>\n",
       "      <th>Credit Score</th>\n",
       "      <th>Years in current job</th>\n",
       "      <th>Annual Income</th>\n",
       "      <th>Monthly Debt</th>\n",
       "      <th>Years of Credit History</th>\n",
       "      <th>Months since last delinquent</th>\n",
       "      <th>Number of Open Accounts</th>\n",
       "      <th>Number of Credit Problems</th>\n",
       "      <th>Bankruptcies</th>\n",
       "      <th>Tax Liens</th>\n",
       "      <th>Home Ownership_Own Home</th>\n",
       "      <th>Home Ownership_Rent</th>\n",
       "      <th>Purpose_Buy House</th>\n",
       "      <th>Purpose_Buy a Car</th>\n",
       "      <th>Purpose_Debt Consolidation</th>\n",
       "      <th>Purpose_Educational Expenses</th>\n",
       "      <th>Purpose_Home Improvements</th>\n",
       "      <th>Purpose_Medical Bills</th>\n",
       "      <th>Purpose_Other</th>\n",
       "      <th>Purpose_Take a Trip</th>\n",
       "    </tr>\n",
       "  </thead>\n",
       "  <tbody>\n",
       "    <tr>\n",
       "      <th>0</th>\n",
       "      <td>1</td>\n",
       "      <td>11520</td>\n",
       "      <td>0</td>\n",
       "      <td>741.0</td>\n",
       "      <td>10.0</td>\n",
       "      <td>33694.0</td>\n",
       "      <td>584.03</td>\n",
       "      <td>12.3</td>\n",
       "      <td>41</td>\n",
       "      <td>10</td>\n",
       "      <td>0</td>\n",
       "      <td>0.0</td>\n",
       "      <td>0.0</td>\n",
       "      <td>0</td>\n",
       "      <td>0</td>\n",
       "      <td>0</td>\n",
       "      <td>0</td>\n",
       "      <td>1</td>\n",
       "      <td>0</td>\n",
       "      <td>0</td>\n",
       "      <td>0</td>\n",
       "      <td>0</td>\n",
       "      <td>0</td>\n",
       "    </tr>\n",
       "    <tr>\n",
       "      <th>1</th>\n",
       "      <td>1</td>\n",
       "      <td>3441</td>\n",
       "      <td>0</td>\n",
       "      <td>734.0</td>\n",
       "      <td>4.0</td>\n",
       "      <td>42269.0</td>\n",
       "      <td>1106.04</td>\n",
       "      <td>26.3</td>\n",
       "      <td>0</td>\n",
       "      <td>17</td>\n",
       "      <td>0</td>\n",
       "      <td>0.0</td>\n",
       "      <td>0.0</td>\n",
       "      <td>0</td>\n",
       "      <td>0</td>\n",
       "      <td>0</td>\n",
       "      <td>0</td>\n",
       "      <td>0</td>\n",
       "      <td>0</td>\n",
       "      <td>0</td>\n",
       "      <td>0</td>\n",
       "      <td>1</td>\n",
       "      <td>0</td>\n",
       "    </tr>\n",
       "    <tr>\n",
       "      <th>2</th>\n",
       "      <td>1</td>\n",
       "      <td>21029</td>\n",
       "      <td>0</td>\n",
       "      <td>747.0</td>\n",
       "      <td>10.0</td>\n",
       "      <td>90126.0</td>\n",
       "      <td>1321.85</td>\n",
       "      <td>28.8</td>\n",
       "      <td>0</td>\n",
       "      <td>5</td>\n",
       "      <td>0</td>\n",
       "      <td>0.0</td>\n",
       "      <td>0.0</td>\n",
       "      <td>0</td>\n",
       "      <td>0</td>\n",
       "      <td>0</td>\n",
       "      <td>0</td>\n",
       "      <td>1</td>\n",
       "      <td>0</td>\n",
       "      <td>0</td>\n",
       "      <td>0</td>\n",
       "      <td>0</td>\n",
       "      <td>0</td>\n",
       "    </tr>\n",
       "    <tr>\n",
       "      <th>3</th>\n",
       "      <td>1</td>\n",
       "      <td>18743</td>\n",
       "      <td>0</td>\n",
       "      <td>747.0</td>\n",
       "      <td>10.0</td>\n",
       "      <td>38072.0</td>\n",
       "      <td>751.92</td>\n",
       "      <td>26.2</td>\n",
       "      <td>0</td>\n",
       "      <td>9</td>\n",
       "      <td>0</td>\n",
       "      <td>0.0</td>\n",
       "      <td>0.0</td>\n",
       "      <td>1</td>\n",
       "      <td>0</td>\n",
       "      <td>0</td>\n",
       "      <td>0</td>\n",
       "      <td>1</td>\n",
       "      <td>0</td>\n",
       "      <td>0</td>\n",
       "      <td>0</td>\n",
       "      <td>0</td>\n",
       "      <td>0</td>\n",
       "    </tr>\n",
       "    <tr>\n",
       "      <th>4</th>\n",
       "      <td>1</td>\n",
       "      <td>11731</td>\n",
       "      <td>0</td>\n",
       "      <td>746.0</td>\n",
       "      <td>4.0</td>\n",
       "      <td>50025.0</td>\n",
       "      <td>355.18</td>\n",
       "      <td>11.5</td>\n",
       "      <td>0</td>\n",
       "      <td>12</td>\n",
       "      <td>0</td>\n",
       "      <td>0.0</td>\n",
       "      <td>0.0</td>\n",
       "      <td>0</td>\n",
       "      <td>1</td>\n",
       "      <td>0</td>\n",
       "      <td>0</td>\n",
       "      <td>1</td>\n",
       "      <td>0</td>\n",
       "      <td>0</td>\n",
       "      <td>0</td>\n",
       "      <td>0</td>\n",
       "      <td>0</td>\n",
       "    </tr>\n",
       "  </tbody>\n",
       "</table>\n",
       "</div>"
      ],
      "text/plain": [
       "   Loan Status  Current Loan Amount  Term  Credit Score  Years in current job  \\\n",
       "0            1                11520     0         741.0                  10.0   \n",
       "1            1                 3441     0         734.0                   4.0   \n",
       "2            1                21029     0         747.0                  10.0   \n",
       "3            1                18743     0         747.0                  10.0   \n",
       "4            1                11731     0         746.0                   4.0   \n",
       "\n",
       "   Annual Income  Monthly Debt  Years of Credit History  \\\n",
       "0        33694.0        584.03                     12.3   \n",
       "1        42269.0       1106.04                     26.3   \n",
       "2        90126.0       1321.85                     28.8   \n",
       "3        38072.0        751.92                     26.2   \n",
       "4        50025.0        355.18                     11.5   \n",
       "\n",
       "   Months since last delinquent  Number of Open Accounts  \\\n",
       "0                            41                       10   \n",
       "1                             0                       17   \n",
       "2                             0                        5   \n",
       "3                             0                        9   \n",
       "4                             0                       12   \n",
       "\n",
       "   Number of Credit Problems  Bankruptcies  Tax Liens  \\\n",
       "0                          0           0.0        0.0   \n",
       "1                          0           0.0        0.0   \n",
       "2                          0           0.0        0.0   \n",
       "3                          0           0.0        0.0   \n",
       "4                          0           0.0        0.0   \n",
       "\n",
       "   Home Ownership_Own Home  Home Ownership_Rent  Purpose_Buy House  \\\n",
       "0                        0                    0                  0   \n",
       "1                        0                    0                  0   \n",
       "2                        0                    0                  0   \n",
       "3                        1                    0                  0   \n",
       "4                        0                    1                  0   \n",
       "\n",
       "   Purpose_Buy a Car  Purpose_Debt Consolidation  \\\n",
       "0                  0                           1   \n",
       "1                  0                           0   \n",
       "2                  0                           1   \n",
       "3                  0                           1   \n",
       "4                  0                           1   \n",
       "\n",
       "   Purpose_Educational Expenses  Purpose_Home Improvements  \\\n",
       "0                             0                          0   \n",
       "1                             0                          0   \n",
       "2                             0                          0   \n",
       "3                             0                          0   \n",
       "4                             0                          0   \n",
       "\n",
       "   Purpose_Medical Bills  Purpose_Other  Purpose_Take a Trip  \n",
       "0                      0              0                    0  \n",
       "1                      0              1                    0  \n",
       "2                      0              0                    0  \n",
       "3                      0              0                    0  \n",
       "4                      0              0                    0  "
      ]
     },
     "execution_count": 133,
     "metadata": {},
     "output_type": "execute_result"
    }
   ],
   "source": [
    "df.head()"
   ]
  },
  {
   "cell_type": "code",
   "execution_count": 134,
   "metadata": {},
   "outputs": [
    {
     "data": {
      "text/plain": [
       "Loan Status                     1.000000\n",
       "Current Loan Amount             0.209140\n",
       "Credit Score                    0.191559\n",
       "Term                            0.158569\n",
       "Annual Income                   0.053507\n",
       "Home Ownership_Rent             0.052967\n",
       "Years of Credit History         0.030149\n",
       "Purpose_Buy a Car               0.019681\n",
       "Purpose_Home Improvements       0.018178\n",
       "Number of Open Accounts         0.017602\n",
       "Years in current job            0.016982\n",
       "Monthly Debt                    0.014033\n",
       "Tax Liens                       0.010739\n",
       "Number of Credit Problems       0.009090\n",
       "Home Ownership_Own Home         0.006862\n",
       "Purpose_Medical Bills           0.004362\n",
       "Purpose_Other                   0.003693\n",
       "Purpose_Buy House               0.002251\n",
       "Purpose_Debt Consolidation      0.001182\n",
       "Purpose_Educational Expenses    0.000450\n",
       "Purpose_Take a Trip             0.000357\n",
       "Months since last delinquent    0.000327\n",
       "Bankruptcies                    0.000100\n",
       "Name: Loan Status, dtype: float64"
      ]
     },
     "execution_count": 134,
     "metadata": {},
     "output_type": "execute_result"
    }
   ],
   "source": [
    "#hedef sütunu ile diğer sütunlar arasındaki korelasyona baktık\n",
    "abs(df.corr()['Loan Status']).sort_values(ascending=False)"
   ]
  },
  {
   "cell_type": "code",
   "execution_count": 125,
   "metadata": {},
   "outputs": [
    {
     "name": "stdout",
     "output_type": "stream",
     "text": [
      "Requirement already satisfied: xgboost in c:\\users\\lenovo\\anaconda3\\lib\\site-packages (1.4.2)\n",
      "Requirement already satisfied: numpy in c:\\users\\lenovo\\appdata\\roaming\\python\\python38\\site-packages (from xgboost) (1.19.5)\n",
      "Requirement already satisfied: scipy in c:\\users\\lenovo\\anaconda3\\lib\\site-packages (from xgboost) (1.5.2)\n",
      "Note: you may need to restart the kernel to use updated packages.\n"
     ]
    }
   ],
   "source": [
    "pip install xgboost"
   ]
  },
  {
   "cell_type": "code",
   "execution_count": 136,
   "metadata": {},
   "outputs": [],
   "source": [
    "#KULLANACAĞIMIZ MODEL VE KÜTÜPHANELERİ İMPORT EDİYORUZ\n",
    "from sklearn.metrics import accuracy_score,precision_score,recall_score,f1_score\n",
    "from sklearn.metrics import confusion_matrix,classification_report\n",
    "from sklearn.ensemble import GradientBoostingClassifier\n",
    "from sklearn.ensemble import RandomForestClassifier\n",
    "from sklearn.tree import DecisionTreeClassifier\n",
    "from sklearn.linear_model import LogisticRegression\n",
    "from sklearn.neighbors import KNeighborsClassifier\n",
    "from sklearn.naive_bayes import GaussianNB\n",
    "from sklearn.naive_bayes import BernoulliNB\n",
    "from xgboost import XGBClassifier\n",
    "gbc=GradientBoostingClassifier()\n",
    "rfc=RandomForestClassifier()\n",
    "dtc=DecisionTreeClassifier()\n",
    "lr=LogisticRegression()\n",
    "kn=KNeighborsClassifier()\n",
    "g=GaussianNB()\n",
    "b=BernoulliNB()\n",
    "xgbc=XGBClassifier()"
   ]
  },
  {
   "cell_type": "code",
   "execution_count": 137,
   "metadata": {},
   "outputs": [],
   "source": [
    "algorithms=[gbc,rfc,dtc,lr,kn,g,b,xgbc]\n",
    "names=['GradientBoosting','RandomForest','DecisionTree','LogisticRegression','KNeighbours','GaussianNB','BernoulliNB','ExtraGradient']"
   ]
  },
  {
   "cell_type": "code",
   "execution_count": 138,
   "metadata": {},
   "outputs": [],
   "source": [
    "#veri setimizi ikiye ayıdık\n",
    "x_train=df.drop('Loan Status',axis=1)#hedef sütunu train sütunndan çıkardık\n",
    "y_train=df['Loan Status']"
   ]
  },
  {
   "cell_type": "code",
   "execution_count": 139,
   "metadata": {},
   "outputs": [],
   "source": [
    "def algo_test(X,Y,algorithms=algorithms, names=names):\n",
    "    #fit the data\n",
    "    for i in range(len(algorithms)):\n",
    "        algorithms[i]=algorithms[i].fit(X,Y)\n",
    "    #print metrics\n",
    "    accuracy=[]\n",
    "    precision=[]\n",
    "    recall=[]\n",
    "    f1=[]\n",
    "    for i in range(len(algorithms)):\n",
    "        accuracy.append(accuracy_score(Y,algorithms[i].predict(X)))\n",
    "        \n",
    "        precision.append(precision_score(Y, algorithms[i].predict(X)))\n",
    "        \n",
    "        recall.append(recall_score(Y, algorithms[i].predict(X)))\n",
    "        \n",
    "        f1.append(f1_score(Y, algorithms[i].predict(X)))\n",
    "        \n",
    "    metrics=pd.DataFrame(columns=['Accuracy','Precision','Recall','F1'],index=names)\n",
    "    metrics['Accuracy']= accuracy\n",
    "    metrics['Precision']= precision\n",
    "    metrics['Recall']= recall\n",
    "    metrics['F1']= f1\n",
    "    return metrics.sort_values('F1',ascending=False)    "
   ]
  },
  {
   "cell_type": "code",
   "execution_count": 140,
   "metadata": {},
   "outputs": [
    {
     "name": "stdout",
     "output_type": "stream",
     "text": [
      "[18:44:20] WARNING: C:/Users/Administrator/workspace/xgboost-win64_release_1.4.0/src/learner.cc:1095: Starting in XGBoost 1.3.0, the default evaluation metric used with the objective 'binary:logistic' was changed from 'error' to 'logloss'. Explicitly set eval_metric if you'd like to restore the old behavior.\n"
     ]
    },
    {
     "data": {
      "text/html": [
       "<div>\n",
       "<style scoped>\n",
       "    .dataframe tbody tr th:only-of-type {\n",
       "        vertical-align: middle;\n",
       "    }\n",
       "\n",
       "    .dataframe tbody tr th {\n",
       "        vertical-align: top;\n",
       "    }\n",
       "\n",
       "    .dataframe thead th {\n",
       "        text-align: right;\n",
       "    }\n",
       "</style>\n",
       "<table border=\"1\" class=\"dataframe\">\n",
       "  <thead>\n",
       "    <tr style=\"text-align: right;\">\n",
       "      <th></th>\n",
       "      <th>Accuracy</th>\n",
       "      <th>Precision</th>\n",
       "      <th>Recall</th>\n",
       "      <th>F1</th>\n",
       "    </tr>\n",
       "  </thead>\n",
       "  <tbody>\n",
       "    <tr>\n",
       "      <th>DecisionTree</th>\n",
       "      <td>1.000000</td>\n",
       "      <td>1.000000</td>\n",
       "      <td>1.000000</td>\n",
       "      <td>1.000000</td>\n",
       "    </tr>\n",
       "    <tr>\n",
       "      <th>RandomForest</th>\n",
       "      <td>0.999995</td>\n",
       "      <td>0.999994</td>\n",
       "      <td>1.000000</td>\n",
       "      <td>0.999997</td>\n",
       "    </tr>\n",
       "    <tr>\n",
       "      <th>KNeighbours</th>\n",
       "      <td>0.837724</td>\n",
       "      <td>0.852501</td>\n",
       "      <td>0.968988</td>\n",
       "      <td>0.907020</td>\n",
       "    </tr>\n",
       "    <tr>\n",
       "      <th>ExtraGradient</th>\n",
       "      <td>0.826565</td>\n",
       "      <td>0.829776</td>\n",
       "      <td>0.990964</td>\n",
       "      <td>0.903235</td>\n",
       "    </tr>\n",
       "    <tr>\n",
       "      <th>GradientBoosting</th>\n",
       "      <td>0.818554</td>\n",
       "      <td>0.821882</td>\n",
       "      <td>0.993087</td>\n",
       "      <td>0.899410</td>\n",
       "    </tr>\n",
       "    <tr>\n",
       "      <th>BernoulliNB</th>\n",
       "      <td>0.816829</td>\n",
       "      <td>0.816842</td>\n",
       "      <td>0.999977</td>\n",
       "      <td>0.899179</td>\n",
       "    </tr>\n",
       "    <tr>\n",
       "      <th>LogisticRegression</th>\n",
       "      <td>0.816732</td>\n",
       "      <td>0.816827</td>\n",
       "      <td>0.999852</td>\n",
       "      <td>0.899120</td>\n",
       "    </tr>\n",
       "    <tr>\n",
       "      <th>GaussianNB</th>\n",
       "      <td>0.346402</td>\n",
       "      <td>1.000000</td>\n",
       "      <td>0.199840</td>\n",
       "      <td>0.333111</td>\n",
       "    </tr>\n",
       "  </tbody>\n",
       "</table>\n",
       "</div>"
      ],
      "text/plain": [
       "                    Accuracy  Precision    Recall        F1\n",
       "DecisionTree        1.000000   1.000000  1.000000  1.000000\n",
       "RandomForest        0.999995   0.999994  1.000000  0.999997\n",
       "KNeighbours         0.837724   0.852501  0.968988  0.907020\n",
       "ExtraGradient       0.826565   0.829776  0.990964  0.903235\n",
       "GradientBoosting    0.818554   0.821882  0.993087  0.899410\n",
       "BernoulliNB         0.816829   0.816842  0.999977  0.899179\n",
       "LogisticRegression  0.816732   0.816827  0.999852  0.899120\n",
       "GaussianNB          0.346402   1.000000  0.199840  0.333111"
      ]
     },
     "execution_count": 140,
     "metadata": {},
     "output_type": "execute_result"
    }
   ],
   "source": [
    "#bazı classification algoritmalarını çalıştıran donksiyonu çağırdık\n",
    "algo_test(x_train, y_train,algorithms)"
   ]
  },
  {
   "cell_type": "code",
   "execution_count": 141,
   "metadata": {},
   "outputs": [
    {
     "data": {
      "text/html": [
       "<style  type=\"text/css\" >\n",
       "</style><table id=\"T_6cf3d26b_d8f1_11eb_bdd8_f4dd29b78e07\" ><thead>    <tr>        <th class=\"blank level0\" ></th>        <th class=\"col_heading level0 col0\" >Description</th>        <th class=\"col_heading level0 col1\" >Value</th>    </tr></thead><tbody>\n",
       "                <tr>\n",
       "                        <th id=\"T_6cf3d26b_d8f1_11eb_bdd8_f4dd29b78e07level0_row0\" class=\"row_heading level0 row0\" >0</th>\n",
       "                        <td id=\"T_6cf3d26b_d8f1_11eb_bdd8_f4dd29b78e07row0_col0\" class=\"data row0 col0\" >session_id</td>\n",
       "                        <td id=\"T_6cf3d26b_d8f1_11eb_bdd8_f4dd29b78e07row0_col1\" class=\"data row0 col1\" >2572</td>\n",
       "            </tr>\n",
       "            <tr>\n",
       "                        <th id=\"T_6cf3d26b_d8f1_11eb_bdd8_f4dd29b78e07level0_row1\" class=\"row_heading level0 row1\" >1</th>\n",
       "                        <td id=\"T_6cf3d26b_d8f1_11eb_bdd8_f4dd29b78e07row1_col0\" class=\"data row1 col0\" >Target</td>\n",
       "                        <td id=\"T_6cf3d26b_d8f1_11eb_bdd8_f4dd29b78e07row1_col1\" class=\"data row1 col1\" >Loan Status</td>\n",
       "            </tr>\n",
       "            <tr>\n",
       "                        <th id=\"T_6cf3d26b_d8f1_11eb_bdd8_f4dd29b78e07level0_row2\" class=\"row_heading level0 row2\" >2</th>\n",
       "                        <td id=\"T_6cf3d26b_d8f1_11eb_bdd8_f4dd29b78e07row2_col0\" class=\"data row2 col0\" >Target Type</td>\n",
       "                        <td id=\"T_6cf3d26b_d8f1_11eb_bdd8_f4dd29b78e07row2_col1\" class=\"data row2 col1\" >Binary</td>\n",
       "            </tr>\n",
       "            <tr>\n",
       "                        <th id=\"T_6cf3d26b_d8f1_11eb_bdd8_f4dd29b78e07level0_row3\" class=\"row_heading level0 row3\" >3</th>\n",
       "                        <td id=\"T_6cf3d26b_d8f1_11eb_bdd8_f4dd29b78e07row3_col0\" class=\"data row3 col0\" >Label Encoded</td>\n",
       "                        <td id=\"T_6cf3d26b_d8f1_11eb_bdd8_f4dd29b78e07row3_col1\" class=\"data row3 col1\" >0: 0, 1: 1</td>\n",
       "            </tr>\n",
       "            <tr>\n",
       "                        <th id=\"T_6cf3d26b_d8f1_11eb_bdd8_f4dd29b78e07level0_row4\" class=\"row_heading level0 row4\" >4</th>\n",
       "                        <td id=\"T_6cf3d26b_d8f1_11eb_bdd8_f4dd29b78e07row4_col0\" class=\"data row4 col0\" >Original Data</td>\n",
       "                        <td id=\"T_6cf3d26b_d8f1_11eb_bdd8_f4dd29b78e07row4_col1\" class=\"data row4 col1\" >(215700, 23)</td>\n",
       "            </tr>\n",
       "            <tr>\n",
       "                        <th id=\"T_6cf3d26b_d8f1_11eb_bdd8_f4dd29b78e07level0_row5\" class=\"row_heading level0 row5\" >5</th>\n",
       "                        <td id=\"T_6cf3d26b_d8f1_11eb_bdd8_f4dd29b78e07row5_col0\" class=\"data row5 col0\" >Missing Values</td>\n",
       "                        <td id=\"T_6cf3d26b_d8f1_11eb_bdd8_f4dd29b78e07row5_col1\" class=\"data row5 col1\" >False</td>\n",
       "            </tr>\n",
       "            <tr>\n",
       "                        <th id=\"T_6cf3d26b_d8f1_11eb_bdd8_f4dd29b78e07level0_row6\" class=\"row_heading level0 row6\" >6</th>\n",
       "                        <td id=\"T_6cf3d26b_d8f1_11eb_bdd8_f4dd29b78e07row6_col0\" class=\"data row6 col0\" >Numeric Features</td>\n",
       "                        <td id=\"T_6cf3d26b_d8f1_11eb_bdd8_f4dd29b78e07row6_col1\" class=\"data row6 col1\" >20</td>\n",
       "            </tr>\n",
       "            <tr>\n",
       "                        <th id=\"T_6cf3d26b_d8f1_11eb_bdd8_f4dd29b78e07level0_row7\" class=\"row_heading level0 row7\" >7</th>\n",
       "                        <td id=\"T_6cf3d26b_d8f1_11eb_bdd8_f4dd29b78e07row7_col0\" class=\"data row7 col0\" >Categorical Features</td>\n",
       "                        <td id=\"T_6cf3d26b_d8f1_11eb_bdd8_f4dd29b78e07row7_col1\" class=\"data row7 col1\" >2</td>\n",
       "            </tr>\n",
       "            <tr>\n",
       "                        <th id=\"T_6cf3d26b_d8f1_11eb_bdd8_f4dd29b78e07level0_row8\" class=\"row_heading level0 row8\" >8</th>\n",
       "                        <td id=\"T_6cf3d26b_d8f1_11eb_bdd8_f4dd29b78e07row8_col0\" class=\"data row8 col0\" >Ordinal Features</td>\n",
       "                        <td id=\"T_6cf3d26b_d8f1_11eb_bdd8_f4dd29b78e07row8_col1\" class=\"data row8 col1\" >False</td>\n",
       "            </tr>\n",
       "            <tr>\n",
       "                        <th id=\"T_6cf3d26b_d8f1_11eb_bdd8_f4dd29b78e07level0_row9\" class=\"row_heading level0 row9\" >9</th>\n",
       "                        <td id=\"T_6cf3d26b_d8f1_11eb_bdd8_f4dd29b78e07row9_col0\" class=\"data row9 col0\" >High Cardinality Features</td>\n",
       "                        <td id=\"T_6cf3d26b_d8f1_11eb_bdd8_f4dd29b78e07row9_col1\" class=\"data row9 col1\" >False</td>\n",
       "            </tr>\n",
       "            <tr>\n",
       "                        <th id=\"T_6cf3d26b_d8f1_11eb_bdd8_f4dd29b78e07level0_row10\" class=\"row_heading level0 row10\" >10</th>\n",
       "                        <td id=\"T_6cf3d26b_d8f1_11eb_bdd8_f4dd29b78e07row10_col0\" class=\"data row10 col0\" >High Cardinality Method</td>\n",
       "                        <td id=\"T_6cf3d26b_d8f1_11eb_bdd8_f4dd29b78e07row10_col1\" class=\"data row10 col1\" >None</td>\n",
       "            </tr>\n",
       "            <tr>\n",
       "                        <th id=\"T_6cf3d26b_d8f1_11eb_bdd8_f4dd29b78e07level0_row11\" class=\"row_heading level0 row11\" >11</th>\n",
       "                        <td id=\"T_6cf3d26b_d8f1_11eb_bdd8_f4dd29b78e07row11_col0\" class=\"data row11 col0\" >Transformed Train Set</td>\n",
       "                        <td id=\"T_6cf3d26b_d8f1_11eb_bdd8_f4dd29b78e07row11_col1\" class=\"data row11 col1\" >(150989, 33)</td>\n",
       "            </tr>\n",
       "            <tr>\n",
       "                        <th id=\"T_6cf3d26b_d8f1_11eb_bdd8_f4dd29b78e07level0_row12\" class=\"row_heading level0 row12\" >12</th>\n",
       "                        <td id=\"T_6cf3d26b_d8f1_11eb_bdd8_f4dd29b78e07row12_col0\" class=\"data row12 col0\" >Transformed Test Set</td>\n",
       "                        <td id=\"T_6cf3d26b_d8f1_11eb_bdd8_f4dd29b78e07row12_col1\" class=\"data row12 col1\" >(64711, 33)</td>\n",
       "            </tr>\n",
       "            <tr>\n",
       "                        <th id=\"T_6cf3d26b_d8f1_11eb_bdd8_f4dd29b78e07level0_row13\" class=\"row_heading level0 row13\" >13</th>\n",
       "                        <td id=\"T_6cf3d26b_d8f1_11eb_bdd8_f4dd29b78e07row13_col0\" class=\"data row13 col0\" >Shuffle Train-Test</td>\n",
       "                        <td id=\"T_6cf3d26b_d8f1_11eb_bdd8_f4dd29b78e07row13_col1\" class=\"data row13 col1\" >True</td>\n",
       "            </tr>\n",
       "            <tr>\n",
       "                        <th id=\"T_6cf3d26b_d8f1_11eb_bdd8_f4dd29b78e07level0_row14\" class=\"row_heading level0 row14\" >14</th>\n",
       "                        <td id=\"T_6cf3d26b_d8f1_11eb_bdd8_f4dd29b78e07row14_col0\" class=\"data row14 col0\" >Stratify Train-Test</td>\n",
       "                        <td id=\"T_6cf3d26b_d8f1_11eb_bdd8_f4dd29b78e07row14_col1\" class=\"data row14 col1\" >False</td>\n",
       "            </tr>\n",
       "            <tr>\n",
       "                        <th id=\"T_6cf3d26b_d8f1_11eb_bdd8_f4dd29b78e07level0_row15\" class=\"row_heading level0 row15\" >15</th>\n",
       "                        <td id=\"T_6cf3d26b_d8f1_11eb_bdd8_f4dd29b78e07row15_col0\" class=\"data row15 col0\" >Fold Generator</td>\n",
       "                        <td id=\"T_6cf3d26b_d8f1_11eb_bdd8_f4dd29b78e07row15_col1\" class=\"data row15 col1\" >StratifiedKFold</td>\n",
       "            </tr>\n",
       "            <tr>\n",
       "                        <th id=\"T_6cf3d26b_d8f1_11eb_bdd8_f4dd29b78e07level0_row16\" class=\"row_heading level0 row16\" >16</th>\n",
       "                        <td id=\"T_6cf3d26b_d8f1_11eb_bdd8_f4dd29b78e07row16_col0\" class=\"data row16 col0\" >Fold Number</td>\n",
       "                        <td id=\"T_6cf3d26b_d8f1_11eb_bdd8_f4dd29b78e07row16_col1\" class=\"data row16 col1\" >10</td>\n",
       "            </tr>\n",
       "            <tr>\n",
       "                        <th id=\"T_6cf3d26b_d8f1_11eb_bdd8_f4dd29b78e07level0_row17\" class=\"row_heading level0 row17\" >17</th>\n",
       "                        <td id=\"T_6cf3d26b_d8f1_11eb_bdd8_f4dd29b78e07row17_col0\" class=\"data row17 col0\" >CPU Jobs</td>\n",
       "                        <td id=\"T_6cf3d26b_d8f1_11eb_bdd8_f4dd29b78e07row17_col1\" class=\"data row17 col1\" >-1</td>\n",
       "            </tr>\n",
       "            <tr>\n",
       "                        <th id=\"T_6cf3d26b_d8f1_11eb_bdd8_f4dd29b78e07level0_row18\" class=\"row_heading level0 row18\" >18</th>\n",
       "                        <td id=\"T_6cf3d26b_d8f1_11eb_bdd8_f4dd29b78e07row18_col0\" class=\"data row18 col0\" >Use GPU</td>\n",
       "                        <td id=\"T_6cf3d26b_d8f1_11eb_bdd8_f4dd29b78e07row18_col1\" class=\"data row18 col1\" >False</td>\n",
       "            </tr>\n",
       "            <tr>\n",
       "                        <th id=\"T_6cf3d26b_d8f1_11eb_bdd8_f4dd29b78e07level0_row19\" class=\"row_heading level0 row19\" >19</th>\n",
       "                        <td id=\"T_6cf3d26b_d8f1_11eb_bdd8_f4dd29b78e07row19_col0\" class=\"data row19 col0\" >Log Experiment</td>\n",
       "                        <td id=\"T_6cf3d26b_d8f1_11eb_bdd8_f4dd29b78e07row19_col1\" class=\"data row19 col1\" >False</td>\n",
       "            </tr>\n",
       "            <tr>\n",
       "                        <th id=\"T_6cf3d26b_d8f1_11eb_bdd8_f4dd29b78e07level0_row20\" class=\"row_heading level0 row20\" >20</th>\n",
       "                        <td id=\"T_6cf3d26b_d8f1_11eb_bdd8_f4dd29b78e07row20_col0\" class=\"data row20 col0\" >Experiment Name</td>\n",
       "                        <td id=\"T_6cf3d26b_d8f1_11eb_bdd8_f4dd29b78e07row20_col1\" class=\"data row20 col1\" >clf-default-name</td>\n",
       "            </tr>\n",
       "            <tr>\n",
       "                        <th id=\"T_6cf3d26b_d8f1_11eb_bdd8_f4dd29b78e07level0_row21\" class=\"row_heading level0 row21\" >21</th>\n",
       "                        <td id=\"T_6cf3d26b_d8f1_11eb_bdd8_f4dd29b78e07row21_col0\" class=\"data row21 col0\" >USI</td>\n",
       "                        <td id=\"T_6cf3d26b_d8f1_11eb_bdd8_f4dd29b78e07row21_col1\" class=\"data row21 col1\" >d856</td>\n",
       "            </tr>\n",
       "            <tr>\n",
       "                        <th id=\"T_6cf3d26b_d8f1_11eb_bdd8_f4dd29b78e07level0_row22\" class=\"row_heading level0 row22\" >22</th>\n",
       "                        <td id=\"T_6cf3d26b_d8f1_11eb_bdd8_f4dd29b78e07row22_col0\" class=\"data row22 col0\" >Imputation Type</td>\n",
       "                        <td id=\"T_6cf3d26b_d8f1_11eb_bdd8_f4dd29b78e07row22_col1\" class=\"data row22 col1\" >simple</td>\n",
       "            </tr>\n",
       "            <tr>\n",
       "                        <th id=\"T_6cf3d26b_d8f1_11eb_bdd8_f4dd29b78e07level0_row23\" class=\"row_heading level0 row23\" >23</th>\n",
       "                        <td id=\"T_6cf3d26b_d8f1_11eb_bdd8_f4dd29b78e07row23_col0\" class=\"data row23 col0\" >Iterative Imputation Iteration</td>\n",
       "                        <td id=\"T_6cf3d26b_d8f1_11eb_bdd8_f4dd29b78e07row23_col1\" class=\"data row23 col1\" >None</td>\n",
       "            </tr>\n",
       "            <tr>\n",
       "                        <th id=\"T_6cf3d26b_d8f1_11eb_bdd8_f4dd29b78e07level0_row24\" class=\"row_heading level0 row24\" >24</th>\n",
       "                        <td id=\"T_6cf3d26b_d8f1_11eb_bdd8_f4dd29b78e07row24_col0\" class=\"data row24 col0\" >Numeric Imputer</td>\n",
       "                        <td id=\"T_6cf3d26b_d8f1_11eb_bdd8_f4dd29b78e07row24_col1\" class=\"data row24 col1\" >mean</td>\n",
       "            </tr>\n",
       "            <tr>\n",
       "                        <th id=\"T_6cf3d26b_d8f1_11eb_bdd8_f4dd29b78e07level0_row25\" class=\"row_heading level0 row25\" >25</th>\n",
       "                        <td id=\"T_6cf3d26b_d8f1_11eb_bdd8_f4dd29b78e07row25_col0\" class=\"data row25 col0\" >Iterative Imputation Numeric Model</td>\n",
       "                        <td id=\"T_6cf3d26b_d8f1_11eb_bdd8_f4dd29b78e07row25_col1\" class=\"data row25 col1\" >None</td>\n",
       "            </tr>\n",
       "            <tr>\n",
       "                        <th id=\"T_6cf3d26b_d8f1_11eb_bdd8_f4dd29b78e07level0_row26\" class=\"row_heading level0 row26\" >26</th>\n",
       "                        <td id=\"T_6cf3d26b_d8f1_11eb_bdd8_f4dd29b78e07row26_col0\" class=\"data row26 col0\" >Categorical Imputer</td>\n",
       "                        <td id=\"T_6cf3d26b_d8f1_11eb_bdd8_f4dd29b78e07row26_col1\" class=\"data row26 col1\" >constant</td>\n",
       "            </tr>\n",
       "            <tr>\n",
       "                        <th id=\"T_6cf3d26b_d8f1_11eb_bdd8_f4dd29b78e07level0_row27\" class=\"row_heading level0 row27\" >27</th>\n",
       "                        <td id=\"T_6cf3d26b_d8f1_11eb_bdd8_f4dd29b78e07row27_col0\" class=\"data row27 col0\" >Iterative Imputation Categorical Model</td>\n",
       "                        <td id=\"T_6cf3d26b_d8f1_11eb_bdd8_f4dd29b78e07row27_col1\" class=\"data row27 col1\" >None</td>\n",
       "            </tr>\n",
       "            <tr>\n",
       "                        <th id=\"T_6cf3d26b_d8f1_11eb_bdd8_f4dd29b78e07level0_row28\" class=\"row_heading level0 row28\" >28</th>\n",
       "                        <td id=\"T_6cf3d26b_d8f1_11eb_bdd8_f4dd29b78e07row28_col0\" class=\"data row28 col0\" >Unknown Categoricals Handling</td>\n",
       "                        <td id=\"T_6cf3d26b_d8f1_11eb_bdd8_f4dd29b78e07row28_col1\" class=\"data row28 col1\" >least_frequent</td>\n",
       "            </tr>\n",
       "            <tr>\n",
       "                        <th id=\"T_6cf3d26b_d8f1_11eb_bdd8_f4dd29b78e07level0_row29\" class=\"row_heading level0 row29\" >29</th>\n",
       "                        <td id=\"T_6cf3d26b_d8f1_11eb_bdd8_f4dd29b78e07row29_col0\" class=\"data row29 col0\" >Normalize</td>\n",
       "                        <td id=\"T_6cf3d26b_d8f1_11eb_bdd8_f4dd29b78e07row29_col1\" class=\"data row29 col1\" >False</td>\n",
       "            </tr>\n",
       "            <tr>\n",
       "                        <th id=\"T_6cf3d26b_d8f1_11eb_bdd8_f4dd29b78e07level0_row30\" class=\"row_heading level0 row30\" >30</th>\n",
       "                        <td id=\"T_6cf3d26b_d8f1_11eb_bdd8_f4dd29b78e07row30_col0\" class=\"data row30 col0\" >Normalize Method</td>\n",
       "                        <td id=\"T_6cf3d26b_d8f1_11eb_bdd8_f4dd29b78e07row30_col1\" class=\"data row30 col1\" >None</td>\n",
       "            </tr>\n",
       "            <tr>\n",
       "                        <th id=\"T_6cf3d26b_d8f1_11eb_bdd8_f4dd29b78e07level0_row31\" class=\"row_heading level0 row31\" >31</th>\n",
       "                        <td id=\"T_6cf3d26b_d8f1_11eb_bdd8_f4dd29b78e07row31_col0\" class=\"data row31 col0\" >Transformation</td>\n",
       "                        <td id=\"T_6cf3d26b_d8f1_11eb_bdd8_f4dd29b78e07row31_col1\" class=\"data row31 col1\" >False</td>\n",
       "            </tr>\n",
       "            <tr>\n",
       "                        <th id=\"T_6cf3d26b_d8f1_11eb_bdd8_f4dd29b78e07level0_row32\" class=\"row_heading level0 row32\" >32</th>\n",
       "                        <td id=\"T_6cf3d26b_d8f1_11eb_bdd8_f4dd29b78e07row32_col0\" class=\"data row32 col0\" >Transformation Method</td>\n",
       "                        <td id=\"T_6cf3d26b_d8f1_11eb_bdd8_f4dd29b78e07row32_col1\" class=\"data row32 col1\" >None</td>\n",
       "            </tr>\n",
       "            <tr>\n",
       "                        <th id=\"T_6cf3d26b_d8f1_11eb_bdd8_f4dd29b78e07level0_row33\" class=\"row_heading level0 row33\" >33</th>\n",
       "                        <td id=\"T_6cf3d26b_d8f1_11eb_bdd8_f4dd29b78e07row33_col0\" class=\"data row33 col0\" >PCA</td>\n",
       "                        <td id=\"T_6cf3d26b_d8f1_11eb_bdd8_f4dd29b78e07row33_col1\" class=\"data row33 col1\" >False</td>\n",
       "            </tr>\n",
       "            <tr>\n",
       "                        <th id=\"T_6cf3d26b_d8f1_11eb_bdd8_f4dd29b78e07level0_row34\" class=\"row_heading level0 row34\" >34</th>\n",
       "                        <td id=\"T_6cf3d26b_d8f1_11eb_bdd8_f4dd29b78e07row34_col0\" class=\"data row34 col0\" >PCA Method</td>\n",
       "                        <td id=\"T_6cf3d26b_d8f1_11eb_bdd8_f4dd29b78e07row34_col1\" class=\"data row34 col1\" >None</td>\n",
       "            </tr>\n",
       "            <tr>\n",
       "                        <th id=\"T_6cf3d26b_d8f1_11eb_bdd8_f4dd29b78e07level0_row35\" class=\"row_heading level0 row35\" >35</th>\n",
       "                        <td id=\"T_6cf3d26b_d8f1_11eb_bdd8_f4dd29b78e07row35_col0\" class=\"data row35 col0\" >PCA Components</td>\n",
       "                        <td id=\"T_6cf3d26b_d8f1_11eb_bdd8_f4dd29b78e07row35_col1\" class=\"data row35 col1\" >None</td>\n",
       "            </tr>\n",
       "            <tr>\n",
       "                        <th id=\"T_6cf3d26b_d8f1_11eb_bdd8_f4dd29b78e07level0_row36\" class=\"row_heading level0 row36\" >36</th>\n",
       "                        <td id=\"T_6cf3d26b_d8f1_11eb_bdd8_f4dd29b78e07row36_col0\" class=\"data row36 col0\" >Ignore Low Variance</td>\n",
       "                        <td id=\"T_6cf3d26b_d8f1_11eb_bdd8_f4dd29b78e07row36_col1\" class=\"data row36 col1\" >False</td>\n",
       "            </tr>\n",
       "            <tr>\n",
       "                        <th id=\"T_6cf3d26b_d8f1_11eb_bdd8_f4dd29b78e07level0_row37\" class=\"row_heading level0 row37\" >37</th>\n",
       "                        <td id=\"T_6cf3d26b_d8f1_11eb_bdd8_f4dd29b78e07row37_col0\" class=\"data row37 col0\" >Combine Rare Levels</td>\n",
       "                        <td id=\"T_6cf3d26b_d8f1_11eb_bdd8_f4dd29b78e07row37_col1\" class=\"data row37 col1\" >False</td>\n",
       "            </tr>\n",
       "            <tr>\n",
       "                        <th id=\"T_6cf3d26b_d8f1_11eb_bdd8_f4dd29b78e07level0_row38\" class=\"row_heading level0 row38\" >38</th>\n",
       "                        <td id=\"T_6cf3d26b_d8f1_11eb_bdd8_f4dd29b78e07row38_col0\" class=\"data row38 col0\" >Rare Level Threshold</td>\n",
       "                        <td id=\"T_6cf3d26b_d8f1_11eb_bdd8_f4dd29b78e07row38_col1\" class=\"data row38 col1\" >None</td>\n",
       "            </tr>\n",
       "            <tr>\n",
       "                        <th id=\"T_6cf3d26b_d8f1_11eb_bdd8_f4dd29b78e07level0_row39\" class=\"row_heading level0 row39\" >39</th>\n",
       "                        <td id=\"T_6cf3d26b_d8f1_11eb_bdd8_f4dd29b78e07row39_col0\" class=\"data row39 col0\" >Numeric Binning</td>\n",
       "                        <td id=\"T_6cf3d26b_d8f1_11eb_bdd8_f4dd29b78e07row39_col1\" class=\"data row39 col1\" >False</td>\n",
       "            </tr>\n",
       "            <tr>\n",
       "                        <th id=\"T_6cf3d26b_d8f1_11eb_bdd8_f4dd29b78e07level0_row40\" class=\"row_heading level0 row40\" >40</th>\n",
       "                        <td id=\"T_6cf3d26b_d8f1_11eb_bdd8_f4dd29b78e07row40_col0\" class=\"data row40 col0\" >Remove Outliers</td>\n",
       "                        <td id=\"T_6cf3d26b_d8f1_11eb_bdd8_f4dd29b78e07row40_col1\" class=\"data row40 col1\" >False</td>\n",
       "            </tr>\n",
       "            <tr>\n",
       "                        <th id=\"T_6cf3d26b_d8f1_11eb_bdd8_f4dd29b78e07level0_row41\" class=\"row_heading level0 row41\" >41</th>\n",
       "                        <td id=\"T_6cf3d26b_d8f1_11eb_bdd8_f4dd29b78e07row41_col0\" class=\"data row41 col0\" >Outliers Threshold</td>\n",
       "                        <td id=\"T_6cf3d26b_d8f1_11eb_bdd8_f4dd29b78e07row41_col1\" class=\"data row41 col1\" >None</td>\n",
       "            </tr>\n",
       "            <tr>\n",
       "                        <th id=\"T_6cf3d26b_d8f1_11eb_bdd8_f4dd29b78e07level0_row42\" class=\"row_heading level0 row42\" >42</th>\n",
       "                        <td id=\"T_6cf3d26b_d8f1_11eb_bdd8_f4dd29b78e07row42_col0\" class=\"data row42 col0\" >Remove Multicollinearity</td>\n",
       "                        <td id=\"T_6cf3d26b_d8f1_11eb_bdd8_f4dd29b78e07row42_col1\" class=\"data row42 col1\" >False</td>\n",
       "            </tr>\n",
       "            <tr>\n",
       "                        <th id=\"T_6cf3d26b_d8f1_11eb_bdd8_f4dd29b78e07level0_row43\" class=\"row_heading level0 row43\" >43</th>\n",
       "                        <td id=\"T_6cf3d26b_d8f1_11eb_bdd8_f4dd29b78e07row43_col0\" class=\"data row43 col0\" >Multicollinearity Threshold</td>\n",
       "                        <td id=\"T_6cf3d26b_d8f1_11eb_bdd8_f4dd29b78e07row43_col1\" class=\"data row43 col1\" >None</td>\n",
       "            </tr>\n",
       "            <tr>\n",
       "                        <th id=\"T_6cf3d26b_d8f1_11eb_bdd8_f4dd29b78e07level0_row44\" class=\"row_heading level0 row44\" >44</th>\n",
       "                        <td id=\"T_6cf3d26b_d8f1_11eb_bdd8_f4dd29b78e07row44_col0\" class=\"data row44 col0\" >Clustering</td>\n",
       "                        <td id=\"T_6cf3d26b_d8f1_11eb_bdd8_f4dd29b78e07row44_col1\" class=\"data row44 col1\" >False</td>\n",
       "            </tr>\n",
       "            <tr>\n",
       "                        <th id=\"T_6cf3d26b_d8f1_11eb_bdd8_f4dd29b78e07level0_row45\" class=\"row_heading level0 row45\" >45</th>\n",
       "                        <td id=\"T_6cf3d26b_d8f1_11eb_bdd8_f4dd29b78e07row45_col0\" class=\"data row45 col0\" >Clustering Iteration</td>\n",
       "                        <td id=\"T_6cf3d26b_d8f1_11eb_bdd8_f4dd29b78e07row45_col1\" class=\"data row45 col1\" >None</td>\n",
       "            </tr>\n",
       "            <tr>\n",
       "                        <th id=\"T_6cf3d26b_d8f1_11eb_bdd8_f4dd29b78e07level0_row46\" class=\"row_heading level0 row46\" >46</th>\n",
       "                        <td id=\"T_6cf3d26b_d8f1_11eb_bdd8_f4dd29b78e07row46_col0\" class=\"data row46 col0\" >Polynomial Features</td>\n",
       "                        <td id=\"T_6cf3d26b_d8f1_11eb_bdd8_f4dd29b78e07row46_col1\" class=\"data row46 col1\" >False</td>\n",
       "            </tr>\n",
       "            <tr>\n",
       "                        <th id=\"T_6cf3d26b_d8f1_11eb_bdd8_f4dd29b78e07level0_row47\" class=\"row_heading level0 row47\" >47</th>\n",
       "                        <td id=\"T_6cf3d26b_d8f1_11eb_bdd8_f4dd29b78e07row47_col0\" class=\"data row47 col0\" >Polynomial Degree</td>\n",
       "                        <td id=\"T_6cf3d26b_d8f1_11eb_bdd8_f4dd29b78e07row47_col1\" class=\"data row47 col1\" >None</td>\n",
       "            </tr>\n",
       "            <tr>\n",
       "                        <th id=\"T_6cf3d26b_d8f1_11eb_bdd8_f4dd29b78e07level0_row48\" class=\"row_heading level0 row48\" >48</th>\n",
       "                        <td id=\"T_6cf3d26b_d8f1_11eb_bdd8_f4dd29b78e07row48_col0\" class=\"data row48 col0\" >Trignometry Features</td>\n",
       "                        <td id=\"T_6cf3d26b_d8f1_11eb_bdd8_f4dd29b78e07row48_col1\" class=\"data row48 col1\" >False</td>\n",
       "            </tr>\n",
       "            <tr>\n",
       "                        <th id=\"T_6cf3d26b_d8f1_11eb_bdd8_f4dd29b78e07level0_row49\" class=\"row_heading level0 row49\" >49</th>\n",
       "                        <td id=\"T_6cf3d26b_d8f1_11eb_bdd8_f4dd29b78e07row49_col0\" class=\"data row49 col0\" >Polynomial Threshold</td>\n",
       "                        <td id=\"T_6cf3d26b_d8f1_11eb_bdd8_f4dd29b78e07row49_col1\" class=\"data row49 col1\" >None</td>\n",
       "            </tr>\n",
       "            <tr>\n",
       "                        <th id=\"T_6cf3d26b_d8f1_11eb_bdd8_f4dd29b78e07level0_row50\" class=\"row_heading level0 row50\" >50</th>\n",
       "                        <td id=\"T_6cf3d26b_d8f1_11eb_bdd8_f4dd29b78e07row50_col0\" class=\"data row50 col0\" >Group Features</td>\n",
       "                        <td id=\"T_6cf3d26b_d8f1_11eb_bdd8_f4dd29b78e07row50_col1\" class=\"data row50 col1\" >False</td>\n",
       "            </tr>\n",
       "            <tr>\n",
       "                        <th id=\"T_6cf3d26b_d8f1_11eb_bdd8_f4dd29b78e07level0_row51\" class=\"row_heading level0 row51\" >51</th>\n",
       "                        <td id=\"T_6cf3d26b_d8f1_11eb_bdd8_f4dd29b78e07row51_col0\" class=\"data row51 col0\" >Feature Selection</td>\n",
       "                        <td id=\"T_6cf3d26b_d8f1_11eb_bdd8_f4dd29b78e07row51_col1\" class=\"data row51 col1\" >False</td>\n",
       "            </tr>\n",
       "            <tr>\n",
       "                        <th id=\"T_6cf3d26b_d8f1_11eb_bdd8_f4dd29b78e07level0_row52\" class=\"row_heading level0 row52\" >52</th>\n",
       "                        <td id=\"T_6cf3d26b_d8f1_11eb_bdd8_f4dd29b78e07row52_col0\" class=\"data row52 col0\" >Feature Selection Method</td>\n",
       "                        <td id=\"T_6cf3d26b_d8f1_11eb_bdd8_f4dd29b78e07row52_col1\" class=\"data row52 col1\" >classic</td>\n",
       "            </tr>\n",
       "            <tr>\n",
       "                        <th id=\"T_6cf3d26b_d8f1_11eb_bdd8_f4dd29b78e07level0_row53\" class=\"row_heading level0 row53\" >53</th>\n",
       "                        <td id=\"T_6cf3d26b_d8f1_11eb_bdd8_f4dd29b78e07row53_col0\" class=\"data row53 col0\" >Features Selection Threshold</td>\n",
       "                        <td id=\"T_6cf3d26b_d8f1_11eb_bdd8_f4dd29b78e07row53_col1\" class=\"data row53 col1\" >None</td>\n",
       "            </tr>\n",
       "            <tr>\n",
       "                        <th id=\"T_6cf3d26b_d8f1_11eb_bdd8_f4dd29b78e07level0_row54\" class=\"row_heading level0 row54\" >54</th>\n",
       "                        <td id=\"T_6cf3d26b_d8f1_11eb_bdd8_f4dd29b78e07row54_col0\" class=\"data row54 col0\" >Feature Interaction</td>\n",
       "                        <td id=\"T_6cf3d26b_d8f1_11eb_bdd8_f4dd29b78e07row54_col1\" class=\"data row54 col1\" >False</td>\n",
       "            </tr>\n",
       "            <tr>\n",
       "                        <th id=\"T_6cf3d26b_d8f1_11eb_bdd8_f4dd29b78e07level0_row55\" class=\"row_heading level0 row55\" >55</th>\n",
       "                        <td id=\"T_6cf3d26b_d8f1_11eb_bdd8_f4dd29b78e07row55_col0\" class=\"data row55 col0\" >Feature Ratio</td>\n",
       "                        <td id=\"T_6cf3d26b_d8f1_11eb_bdd8_f4dd29b78e07row55_col1\" class=\"data row55 col1\" >False</td>\n",
       "            </tr>\n",
       "            <tr>\n",
       "                        <th id=\"T_6cf3d26b_d8f1_11eb_bdd8_f4dd29b78e07level0_row56\" class=\"row_heading level0 row56\" >56</th>\n",
       "                        <td id=\"T_6cf3d26b_d8f1_11eb_bdd8_f4dd29b78e07row56_col0\" class=\"data row56 col0\" >Interaction Threshold</td>\n",
       "                        <td id=\"T_6cf3d26b_d8f1_11eb_bdd8_f4dd29b78e07row56_col1\" class=\"data row56 col1\" >None</td>\n",
       "            </tr>\n",
       "            <tr>\n",
       "                        <th id=\"T_6cf3d26b_d8f1_11eb_bdd8_f4dd29b78e07level0_row57\" class=\"row_heading level0 row57\" >57</th>\n",
       "                        <td id=\"T_6cf3d26b_d8f1_11eb_bdd8_f4dd29b78e07row57_col0\" class=\"data row57 col0\" >Fix Imbalance</td>\n",
       "                        <td id=\"T_6cf3d26b_d8f1_11eb_bdd8_f4dd29b78e07row57_col1\" class=\"data row57 col1\" >False</td>\n",
       "            </tr>\n",
       "            <tr>\n",
       "                        <th id=\"T_6cf3d26b_d8f1_11eb_bdd8_f4dd29b78e07level0_row58\" class=\"row_heading level0 row58\" >58</th>\n",
       "                        <td id=\"T_6cf3d26b_d8f1_11eb_bdd8_f4dd29b78e07row58_col0\" class=\"data row58 col0\" >Fix Imbalance Method</td>\n",
       "                        <td id=\"T_6cf3d26b_d8f1_11eb_bdd8_f4dd29b78e07row58_col1\" class=\"data row58 col1\" >SMOTE</td>\n",
       "            </tr>\n",
       "    </tbody></table>"
      ],
      "text/plain": [
       "<pandas.io.formats.style.Styler at 0x267bf7d6760>"
      ]
     },
     "metadata": {},
     "output_type": "display_data"
    }
   ],
   "source": [
    "#burda pycaret ile bütün classification algoritmalarını sonuçlarını gördük\n",
    "from pycaret.classification import *\n",
    "exp_name=setup(data=df ,target='Loan Status')"
   ]
  },
  {
   "cell_type": "code",
   "execution_count": 142,
   "metadata": {},
   "outputs": [
    {
     "data": {
      "text/html": [
       "<style  type=\"text/css\" >\n",
       "    #T_84f7ef42_d8f3_11eb_93c7_f4dd29b78e07 th {\n",
       "          text-align: left;\n",
       "    }#T_84f7ef42_d8f3_11eb_93c7_f4dd29b78e07row0_col0,#T_84f7ef42_d8f3_11eb_93c7_f4dd29b78e07row0_col2,#T_84f7ef42_d8f3_11eb_93c7_f4dd29b78e07row0_col3,#T_84f7ef42_d8f3_11eb_93c7_f4dd29b78e07row0_col4,#T_84f7ef42_d8f3_11eb_93c7_f4dd29b78e07row0_col6,#T_84f7ef42_d8f3_11eb_93c7_f4dd29b78e07row0_col7,#T_84f7ef42_d8f3_11eb_93c7_f4dd29b78e07row1_col0,#T_84f7ef42_d8f3_11eb_93c7_f4dd29b78e07row1_col1,#T_84f7ef42_d8f3_11eb_93c7_f4dd29b78e07row1_col3,#T_84f7ef42_d8f3_11eb_93c7_f4dd29b78e07row1_col4,#T_84f7ef42_d8f3_11eb_93c7_f4dd29b78e07row1_col5,#T_84f7ef42_d8f3_11eb_93c7_f4dd29b78e07row1_col6,#T_84f7ef42_d8f3_11eb_93c7_f4dd29b78e07row1_col7,#T_84f7ef42_d8f3_11eb_93c7_f4dd29b78e07row2_col0,#T_84f7ef42_d8f3_11eb_93c7_f4dd29b78e07row2_col1,#T_84f7ef42_d8f3_11eb_93c7_f4dd29b78e07row2_col2,#T_84f7ef42_d8f3_11eb_93c7_f4dd29b78e07row2_col3,#T_84f7ef42_d8f3_11eb_93c7_f4dd29b78e07row2_col4,#T_84f7ef42_d8f3_11eb_93c7_f4dd29b78e07row2_col5,#T_84f7ef42_d8f3_11eb_93c7_f4dd29b78e07row2_col6,#T_84f7ef42_d8f3_11eb_93c7_f4dd29b78e07row2_col7,#T_84f7ef42_d8f3_11eb_93c7_f4dd29b78e07row3_col0,#T_84f7ef42_d8f3_11eb_93c7_f4dd29b78e07row3_col1,#T_84f7ef42_d8f3_11eb_93c7_f4dd29b78e07row3_col2,#T_84f7ef42_d8f3_11eb_93c7_f4dd29b78e07row3_col3,#T_84f7ef42_d8f3_11eb_93c7_f4dd29b78e07row3_col4,#T_84f7ef42_d8f3_11eb_93c7_f4dd29b78e07row3_col5,#T_84f7ef42_d8f3_11eb_93c7_f4dd29b78e07row3_col6,#T_84f7ef42_d8f3_11eb_93c7_f4dd29b78e07row3_col7,#T_84f7ef42_d8f3_11eb_93c7_f4dd29b78e07row4_col0,#T_84f7ef42_d8f3_11eb_93c7_f4dd29b78e07row4_col1,#T_84f7ef42_d8f3_11eb_93c7_f4dd29b78e07row4_col2,#T_84f7ef42_d8f3_11eb_93c7_f4dd29b78e07row4_col4,#T_84f7ef42_d8f3_11eb_93c7_f4dd29b78e07row4_col5,#T_84f7ef42_d8f3_11eb_93c7_f4dd29b78e07row4_col6,#T_84f7ef42_d8f3_11eb_93c7_f4dd29b78e07row4_col7,#T_84f7ef42_d8f3_11eb_93c7_f4dd29b78e07row5_col0,#T_84f7ef42_d8f3_11eb_93c7_f4dd29b78e07row5_col1,#T_84f7ef42_d8f3_11eb_93c7_f4dd29b78e07row5_col2,#T_84f7ef42_d8f3_11eb_93c7_f4dd29b78e07row5_col3,#T_84f7ef42_d8f3_11eb_93c7_f4dd29b78e07row5_col4,#T_84f7ef42_d8f3_11eb_93c7_f4dd29b78e07row5_col5,#T_84f7ef42_d8f3_11eb_93c7_f4dd29b78e07row5_col6,#T_84f7ef42_d8f3_11eb_93c7_f4dd29b78e07row5_col7,#T_84f7ef42_d8f3_11eb_93c7_f4dd29b78e07row6_col0,#T_84f7ef42_d8f3_11eb_93c7_f4dd29b78e07row6_col1,#T_84f7ef42_d8f3_11eb_93c7_f4dd29b78e07row6_col2,#T_84f7ef42_d8f3_11eb_93c7_f4dd29b78e07row6_col3,#T_84f7ef42_d8f3_11eb_93c7_f4dd29b78e07row6_col4,#T_84f7ef42_d8f3_11eb_93c7_f4dd29b78e07row6_col5,#T_84f7ef42_d8f3_11eb_93c7_f4dd29b78e07row6_col6,#T_84f7ef42_d8f3_11eb_93c7_f4dd29b78e07row6_col7,#T_84f7ef42_d8f3_11eb_93c7_f4dd29b78e07row7_col0,#T_84f7ef42_d8f3_11eb_93c7_f4dd29b78e07row7_col1,#T_84f7ef42_d8f3_11eb_93c7_f4dd29b78e07row7_col2,#T_84f7ef42_d8f3_11eb_93c7_f4dd29b78e07row7_col3,#T_84f7ef42_d8f3_11eb_93c7_f4dd29b78e07row7_col4,#T_84f7ef42_d8f3_11eb_93c7_f4dd29b78e07row7_col5,#T_84f7ef42_d8f3_11eb_93c7_f4dd29b78e07row7_col6,#T_84f7ef42_d8f3_11eb_93c7_f4dd29b78e07row7_col7,#T_84f7ef42_d8f3_11eb_93c7_f4dd29b78e07row8_col0,#T_84f7ef42_d8f3_11eb_93c7_f4dd29b78e07row8_col1,#T_84f7ef42_d8f3_11eb_93c7_f4dd29b78e07row8_col2,#T_84f7ef42_d8f3_11eb_93c7_f4dd29b78e07row8_col3,#T_84f7ef42_d8f3_11eb_93c7_f4dd29b78e07row8_col4,#T_84f7ef42_d8f3_11eb_93c7_f4dd29b78e07row8_col5,#T_84f7ef42_d8f3_11eb_93c7_f4dd29b78e07row8_col6,#T_84f7ef42_d8f3_11eb_93c7_f4dd29b78e07row8_col7,#T_84f7ef42_d8f3_11eb_93c7_f4dd29b78e07row9_col0,#T_84f7ef42_d8f3_11eb_93c7_f4dd29b78e07row9_col1,#T_84f7ef42_d8f3_11eb_93c7_f4dd29b78e07row9_col2,#T_84f7ef42_d8f3_11eb_93c7_f4dd29b78e07row9_col3,#T_84f7ef42_d8f3_11eb_93c7_f4dd29b78e07row9_col4,#T_84f7ef42_d8f3_11eb_93c7_f4dd29b78e07row9_col5,#T_84f7ef42_d8f3_11eb_93c7_f4dd29b78e07row9_col6,#T_84f7ef42_d8f3_11eb_93c7_f4dd29b78e07row9_col7,#T_84f7ef42_d8f3_11eb_93c7_f4dd29b78e07row10_col0,#T_84f7ef42_d8f3_11eb_93c7_f4dd29b78e07row10_col1,#T_84f7ef42_d8f3_11eb_93c7_f4dd29b78e07row10_col2,#T_84f7ef42_d8f3_11eb_93c7_f4dd29b78e07row10_col3,#T_84f7ef42_d8f3_11eb_93c7_f4dd29b78e07row10_col4,#T_84f7ef42_d8f3_11eb_93c7_f4dd29b78e07row10_col5,#T_84f7ef42_d8f3_11eb_93c7_f4dd29b78e07row10_col6,#T_84f7ef42_d8f3_11eb_93c7_f4dd29b78e07row10_col7,#T_84f7ef42_d8f3_11eb_93c7_f4dd29b78e07row11_col0,#T_84f7ef42_d8f3_11eb_93c7_f4dd29b78e07row11_col1,#T_84f7ef42_d8f3_11eb_93c7_f4dd29b78e07row11_col2,#T_84f7ef42_d8f3_11eb_93c7_f4dd29b78e07row11_col3,#T_84f7ef42_d8f3_11eb_93c7_f4dd29b78e07row11_col4,#T_84f7ef42_d8f3_11eb_93c7_f4dd29b78e07row11_col5,#T_84f7ef42_d8f3_11eb_93c7_f4dd29b78e07row11_col7,#T_84f7ef42_d8f3_11eb_93c7_f4dd29b78e07row12_col0,#T_84f7ef42_d8f3_11eb_93c7_f4dd29b78e07row12_col1,#T_84f7ef42_d8f3_11eb_93c7_f4dd29b78e07row12_col2,#T_84f7ef42_d8f3_11eb_93c7_f4dd29b78e07row12_col3,#T_84f7ef42_d8f3_11eb_93c7_f4dd29b78e07row12_col4,#T_84f7ef42_d8f3_11eb_93c7_f4dd29b78e07row12_col5,#T_84f7ef42_d8f3_11eb_93c7_f4dd29b78e07row12_col6,#T_84f7ef42_d8f3_11eb_93c7_f4dd29b78e07row12_col7,#T_84f7ef42_d8f3_11eb_93c7_f4dd29b78e07row13_col0,#T_84f7ef42_d8f3_11eb_93c7_f4dd29b78e07row13_col1,#T_84f7ef42_d8f3_11eb_93c7_f4dd29b78e07row13_col2,#T_84f7ef42_d8f3_11eb_93c7_f4dd29b78e07row13_col3,#T_84f7ef42_d8f3_11eb_93c7_f4dd29b78e07row13_col5,#T_84f7ef42_d8f3_11eb_93c7_f4dd29b78e07row13_col6{\n",
       "            text-align:  left;\n",
       "            text-align:  left;\n",
       "        }#T_84f7ef42_d8f3_11eb_93c7_f4dd29b78e07row0_col1,#T_84f7ef42_d8f3_11eb_93c7_f4dd29b78e07row0_col5,#T_84f7ef42_d8f3_11eb_93c7_f4dd29b78e07row1_col2,#T_84f7ef42_d8f3_11eb_93c7_f4dd29b78e07row4_col3,#T_84f7ef42_d8f3_11eb_93c7_f4dd29b78e07row11_col6,#T_84f7ef42_d8f3_11eb_93c7_f4dd29b78e07row13_col4,#T_84f7ef42_d8f3_11eb_93c7_f4dd29b78e07row13_col7{\n",
       "            text-align:  left;\n",
       "            text-align:  left;\n",
       "            background-color:  yellow;\n",
       "        }#T_84f7ef42_d8f3_11eb_93c7_f4dd29b78e07row0_col8,#T_84f7ef42_d8f3_11eb_93c7_f4dd29b78e07row1_col8,#T_84f7ef42_d8f3_11eb_93c7_f4dd29b78e07row2_col8,#T_84f7ef42_d8f3_11eb_93c7_f4dd29b78e07row4_col8,#T_84f7ef42_d8f3_11eb_93c7_f4dd29b78e07row5_col8,#T_84f7ef42_d8f3_11eb_93c7_f4dd29b78e07row6_col8,#T_84f7ef42_d8f3_11eb_93c7_f4dd29b78e07row7_col8,#T_84f7ef42_d8f3_11eb_93c7_f4dd29b78e07row8_col8,#T_84f7ef42_d8f3_11eb_93c7_f4dd29b78e07row9_col8,#T_84f7ef42_d8f3_11eb_93c7_f4dd29b78e07row10_col8,#T_84f7ef42_d8f3_11eb_93c7_f4dd29b78e07row11_col8,#T_84f7ef42_d8f3_11eb_93c7_f4dd29b78e07row12_col8,#T_84f7ef42_d8f3_11eb_93c7_f4dd29b78e07row13_col8{\n",
       "            text-align:  left;\n",
       "            text-align:  left;\n",
       "            background-color:  lightgrey;\n",
       "        }#T_84f7ef42_d8f3_11eb_93c7_f4dd29b78e07row3_col8{\n",
       "            text-align:  left;\n",
       "            text-align:  left;\n",
       "            background-color:  yellow;\n",
       "            background-color:  lightgrey;\n",
       "        }</style><table id=\"T_84f7ef42_d8f3_11eb_93c7_f4dd29b78e07\" ><thead>    <tr>        <th class=\"blank level0\" ></th>        <th class=\"col_heading level0 col0\" >Model</th>        <th class=\"col_heading level0 col1\" >Accuracy</th>        <th class=\"col_heading level0 col2\" >AUC</th>        <th class=\"col_heading level0 col3\" >Recall</th>        <th class=\"col_heading level0 col4\" >Prec.</th>        <th class=\"col_heading level0 col5\" >F1</th>        <th class=\"col_heading level0 col6\" >Kappa</th>        <th class=\"col_heading level0 col7\" >MCC</th>        <th class=\"col_heading level0 col8\" >TT (Sec)</th>    </tr></thead><tbody>\n",
       "                <tr>\n",
       "                        <th id=\"T_84f7ef42_d8f3_11eb_93c7_f4dd29b78e07level0_row0\" class=\"row_heading level0 row0\" >gbc</th>\n",
       "                        <td id=\"T_84f7ef42_d8f3_11eb_93c7_f4dd29b78e07row0_col0\" class=\"data row0 col0\" >Gradient Boosting Classifier</td>\n",
       "                        <td id=\"T_84f7ef42_d8f3_11eb_93c7_f4dd29b78e07row0_col1\" class=\"data row0 col1\" >0.8186</td>\n",
       "                        <td id=\"T_84f7ef42_d8f3_11eb_93c7_f4dd29b78e07row0_col2\" class=\"data row0 col2\" >0.7445</td>\n",
       "                        <td id=\"T_84f7ef42_d8f3_11eb_93c7_f4dd29b78e07row0_col3\" class=\"data row0 col3\" >0.9942</td>\n",
       "                        <td id=\"T_84f7ef42_d8f3_11eb_93c7_f4dd29b78e07row0_col4\" class=\"data row0 col4\" >0.8214</td>\n",
       "                        <td id=\"T_84f7ef42_d8f3_11eb_93c7_f4dd29b78e07row0_col5\" class=\"data row0 col5\" >0.8996</td>\n",
       "                        <td id=\"T_84f7ef42_d8f3_11eb_93c7_f4dd29b78e07row0_col6\" class=\"data row0 col6\" >0.0427</td>\n",
       "                        <td id=\"T_84f7ef42_d8f3_11eb_93c7_f4dd29b78e07row0_col7\" class=\"data row0 col7\" >0.1015</td>\n",
       "                        <td id=\"T_84f7ef42_d8f3_11eb_93c7_f4dd29b78e07row0_col8\" class=\"data row0 col8\" >22.1180</td>\n",
       "            </tr>\n",
       "            <tr>\n",
       "                        <th id=\"T_84f7ef42_d8f3_11eb_93c7_f4dd29b78e07level0_row1\" class=\"row_heading level0 row1\" >lightgbm</th>\n",
       "                        <td id=\"T_84f7ef42_d8f3_11eb_93c7_f4dd29b78e07row1_col0\" class=\"data row1 col0\" >Light Gradient Boosting Machine</td>\n",
       "                        <td id=\"T_84f7ef42_d8f3_11eb_93c7_f4dd29b78e07row1_col1\" class=\"data row1 col1\" >0.8185</td>\n",
       "                        <td id=\"T_84f7ef42_d8f3_11eb_93c7_f4dd29b78e07row1_col2\" class=\"data row1 col2\" >0.7476</td>\n",
       "                        <td id=\"T_84f7ef42_d8f3_11eb_93c7_f4dd29b78e07row1_col3\" class=\"data row1 col3\" >0.9923</td>\n",
       "                        <td id=\"T_84f7ef42_d8f3_11eb_93c7_f4dd29b78e07row1_col4\" class=\"data row1 col4\" >0.8223</td>\n",
       "                        <td id=\"T_84f7ef42_d8f3_11eb_93c7_f4dd29b78e07row1_col5\" class=\"data row1 col5\" >0.8994</td>\n",
       "                        <td id=\"T_84f7ef42_d8f3_11eb_93c7_f4dd29b78e07row1_col6\" class=\"data row1 col6\" >0.0517</td>\n",
       "                        <td id=\"T_84f7ef42_d8f3_11eb_93c7_f4dd29b78e07row1_col7\" class=\"data row1 col7\" >0.1101</td>\n",
       "                        <td id=\"T_84f7ef42_d8f3_11eb_93c7_f4dd29b78e07row1_col8\" class=\"data row1 col8\" >1.2750</td>\n",
       "            </tr>\n",
       "            <tr>\n",
       "                        <th id=\"T_84f7ef42_d8f3_11eb_93c7_f4dd29b78e07level0_row2\" class=\"row_heading level0 row2\" >ada</th>\n",
       "                        <td id=\"T_84f7ef42_d8f3_11eb_93c7_f4dd29b78e07row2_col0\" class=\"data row2 col0\" >Ada Boost Classifier</td>\n",
       "                        <td id=\"T_84f7ef42_d8f3_11eb_93c7_f4dd29b78e07row2_col1\" class=\"data row2 col1\" >0.8176</td>\n",
       "                        <td id=\"T_84f7ef42_d8f3_11eb_93c7_f4dd29b78e07row2_col2\" class=\"data row2 col2\" >0.7404</td>\n",
       "                        <td id=\"T_84f7ef42_d8f3_11eb_93c7_f4dd29b78e07row2_col3\" class=\"data row2 col3\" >0.9902</td>\n",
       "                        <td id=\"T_84f7ef42_d8f3_11eb_93c7_f4dd29b78e07row2_col4\" class=\"data row2 col4\" >0.8227</td>\n",
       "                        <td id=\"T_84f7ef42_d8f3_11eb_93c7_f4dd29b78e07row2_col5\" class=\"data row2 col5\" >0.8987</td>\n",
       "                        <td id=\"T_84f7ef42_d8f3_11eb_93c7_f4dd29b78e07row2_col6\" class=\"data row2 col6\" >0.0548</td>\n",
       "                        <td id=\"T_84f7ef42_d8f3_11eb_93c7_f4dd29b78e07row2_col7\" class=\"data row2 col7\" >0.1081</td>\n",
       "                        <td id=\"T_84f7ef42_d8f3_11eb_93c7_f4dd29b78e07row2_col8\" class=\"data row2 col8\" >5.1630</td>\n",
       "            </tr>\n",
       "            <tr>\n",
       "                        <th id=\"T_84f7ef42_d8f3_11eb_93c7_f4dd29b78e07level0_row3\" class=\"row_heading level0 row3\" >ridge</th>\n",
       "                        <td id=\"T_84f7ef42_d8f3_11eb_93c7_f4dd29b78e07row3_col0\" class=\"data row3 col0\" >Ridge Classifier</td>\n",
       "                        <td id=\"T_84f7ef42_d8f3_11eb_93c7_f4dd29b78e07row3_col1\" class=\"data row3 col1\" >0.8175</td>\n",
       "                        <td id=\"T_84f7ef42_d8f3_11eb_93c7_f4dd29b78e07row3_col2\" class=\"data row3 col2\" >0.0000</td>\n",
       "                        <td id=\"T_84f7ef42_d8f3_11eb_93c7_f4dd29b78e07row3_col3\" class=\"data row3 col3\" >0.9964</td>\n",
       "                        <td id=\"T_84f7ef42_d8f3_11eb_93c7_f4dd29b78e07row3_col4\" class=\"data row3 col4\" >0.8194</td>\n",
       "                        <td id=\"T_84f7ef42_d8f3_11eb_93c7_f4dd29b78e07row3_col5\" class=\"data row3 col5\" >0.8992</td>\n",
       "                        <td id=\"T_84f7ef42_d8f3_11eb_93c7_f4dd29b78e07row3_col6\" class=\"data row3 col6\" >0.0218</td>\n",
       "                        <td id=\"T_84f7ef42_d8f3_11eb_93c7_f4dd29b78e07row3_col7\" class=\"data row3 col7\" >0.0675</td>\n",
       "                        <td id=\"T_84f7ef42_d8f3_11eb_93c7_f4dd29b78e07row3_col8\" class=\"data row3 col8\" >0.1930</td>\n",
       "            </tr>\n",
       "            <tr>\n",
       "                        <th id=\"T_84f7ef42_d8f3_11eb_93c7_f4dd29b78e07level0_row4\" class=\"row_heading level0 row4\" >lr</th>\n",
       "                        <td id=\"T_84f7ef42_d8f3_11eb_93c7_f4dd29b78e07row4_col0\" class=\"data row4 col0\" >Logistic Regression</td>\n",
       "                        <td id=\"T_84f7ef42_d8f3_11eb_93c7_f4dd29b78e07row4_col1\" class=\"data row4 col1\" >0.8172</td>\n",
       "                        <td id=\"T_84f7ef42_d8f3_11eb_93c7_f4dd29b78e07row4_col2\" class=\"data row4 col2\" >0.6777</td>\n",
       "                        <td id=\"T_84f7ef42_d8f3_11eb_93c7_f4dd29b78e07row4_col3\" class=\"data row4 col3\" >0.9999</td>\n",
       "                        <td id=\"T_84f7ef42_d8f3_11eb_93c7_f4dd29b78e07row4_col4\" class=\"data row4 col4\" >0.8173</td>\n",
       "                        <td id=\"T_84f7ef42_d8f3_11eb_93c7_f4dd29b78e07row4_col5\" class=\"data row4 col5\" >0.8994</td>\n",
       "                        <td id=\"T_84f7ef42_d8f3_11eb_93c7_f4dd29b78e07row4_col6\" class=\"data row4 col6\" >-0.0001</td>\n",
       "                        <td id=\"T_84f7ef42_d8f3_11eb_93c7_f4dd29b78e07row4_col7\" class=\"data row4 col7\" >-0.0012</td>\n",
       "                        <td id=\"T_84f7ef42_d8f3_11eb_93c7_f4dd29b78e07row4_col8\" class=\"data row4 col8\" >2.0580</td>\n",
       "            </tr>\n",
       "            <tr>\n",
       "                        <th id=\"T_84f7ef42_d8f3_11eb_93c7_f4dd29b78e07level0_row5\" class=\"row_heading level0 row5\" >xgboost</th>\n",
       "                        <td id=\"T_84f7ef42_d8f3_11eb_93c7_f4dd29b78e07row5_col0\" class=\"data row5 col0\" >Extreme Gradient Boosting</td>\n",
       "                        <td id=\"T_84f7ef42_d8f3_11eb_93c7_f4dd29b78e07row5_col1\" class=\"data row5 col1\" >0.8169</td>\n",
       "                        <td id=\"T_84f7ef42_d8f3_11eb_93c7_f4dd29b78e07row5_col2\" class=\"data row5 col2\" >0.7419</td>\n",
       "                        <td id=\"T_84f7ef42_d8f3_11eb_93c7_f4dd29b78e07row5_col3\" class=\"data row5 col3\" >0.9850</td>\n",
       "                        <td id=\"T_84f7ef42_d8f3_11eb_93c7_f4dd29b78e07row5_col4\" class=\"data row5 col4\" >0.8249</td>\n",
       "                        <td id=\"T_84f7ef42_d8f3_11eb_93c7_f4dd29b78e07row5_col5\" class=\"data row5 col5\" >0.8979</td>\n",
       "                        <td id=\"T_84f7ef42_d8f3_11eb_93c7_f4dd29b78e07row5_col6\" class=\"data row5 col6\" >0.0749</td>\n",
       "                        <td id=\"T_84f7ef42_d8f3_11eb_93c7_f4dd29b78e07row5_col7\" class=\"data row5 col7\" >0.1252</td>\n",
       "                        <td id=\"T_84f7ef42_d8f3_11eb_93c7_f4dd29b78e07row5_col8\" class=\"data row5 col8\" >14.5810</td>\n",
       "            </tr>\n",
       "            <tr>\n",
       "                        <th id=\"T_84f7ef42_d8f3_11eb_93c7_f4dd29b78e07level0_row6\" class=\"row_heading level0 row6\" >lda</th>\n",
       "                        <td id=\"T_84f7ef42_d8f3_11eb_93c7_f4dd29b78e07row6_col0\" class=\"data row6 col0\" >Linear Discriminant Analysis</td>\n",
       "                        <td id=\"T_84f7ef42_d8f3_11eb_93c7_f4dd29b78e07row6_col1\" class=\"data row6 col1\" >0.8162</td>\n",
       "                        <td id=\"T_84f7ef42_d8f3_11eb_93c7_f4dd29b78e07row6_col2\" class=\"data row6 col2\" >0.7276</td>\n",
       "                        <td id=\"T_84f7ef42_d8f3_11eb_93c7_f4dd29b78e07row6_col3\" class=\"data row6 col3\" >0.9839</td>\n",
       "                        <td id=\"T_84f7ef42_d8f3_11eb_93c7_f4dd29b78e07row6_col4\" class=\"data row6 col4\" >0.8249</td>\n",
       "                        <td id=\"T_84f7ef42_d8f3_11eb_93c7_f4dd29b78e07row6_col5\" class=\"data row6 col5\" >0.8974</td>\n",
       "                        <td id=\"T_84f7ef42_d8f3_11eb_93c7_f4dd29b78e07row6_col6\" class=\"data row6 col6\" >0.0746</td>\n",
       "                        <td id=\"T_84f7ef42_d8f3_11eb_93c7_f4dd29b78e07row6_col7\" class=\"data row6 col7\" >0.1224</td>\n",
       "                        <td id=\"T_84f7ef42_d8f3_11eb_93c7_f4dd29b78e07row6_col8\" class=\"data row6 col8\" >0.7600</td>\n",
       "            </tr>\n",
       "            <tr>\n",
       "                        <th id=\"T_84f7ef42_d8f3_11eb_93c7_f4dd29b78e07level0_row7\" class=\"row_heading level0 row7\" >rf</th>\n",
       "                        <td id=\"T_84f7ef42_d8f3_11eb_93c7_f4dd29b78e07row7_col0\" class=\"data row7 col0\" >Random Forest Classifier</td>\n",
       "                        <td id=\"T_84f7ef42_d8f3_11eb_93c7_f4dd29b78e07row7_col1\" class=\"data row7 col1\" >0.8146</td>\n",
       "                        <td id=\"T_84f7ef42_d8f3_11eb_93c7_f4dd29b78e07row7_col2\" class=\"data row7 col2\" >0.7276</td>\n",
       "                        <td id=\"T_84f7ef42_d8f3_11eb_93c7_f4dd29b78e07row7_col3\" class=\"data row7 col3\" >0.9814</td>\n",
       "                        <td id=\"T_84f7ef42_d8f3_11eb_93c7_f4dd29b78e07row7_col4\" class=\"data row7 col4\" >0.8250</td>\n",
       "                        <td id=\"T_84f7ef42_d8f3_11eb_93c7_f4dd29b78e07row7_col5\" class=\"data row7 col5\" >0.8964</td>\n",
       "                        <td id=\"T_84f7ef42_d8f3_11eb_93c7_f4dd29b78e07row7_col6\" class=\"data row7 col6\" >0.0746</td>\n",
       "                        <td id=\"T_84f7ef42_d8f3_11eb_93c7_f4dd29b78e07row7_col7\" class=\"data row7 col7\" >0.1175</td>\n",
       "                        <td id=\"T_84f7ef42_d8f3_11eb_93c7_f4dd29b78e07row7_col8\" class=\"data row7 col8\" >16.0010</td>\n",
       "            </tr>\n",
       "            <tr>\n",
       "                        <th id=\"T_84f7ef42_d8f3_11eb_93c7_f4dd29b78e07level0_row8\" class=\"row_heading level0 row8\" >et</th>\n",
       "                        <td id=\"T_84f7ef42_d8f3_11eb_93c7_f4dd29b78e07row8_col0\" class=\"data row8 col0\" >Extra Trees Classifier</td>\n",
       "                        <td id=\"T_84f7ef42_d8f3_11eb_93c7_f4dd29b78e07row8_col1\" class=\"data row8 col1\" >0.8125</td>\n",
       "                        <td id=\"T_84f7ef42_d8f3_11eb_93c7_f4dd29b78e07row8_col2\" class=\"data row8 col2\" >0.7184</td>\n",
       "                        <td id=\"T_84f7ef42_d8f3_11eb_93c7_f4dd29b78e07row8_col3\" class=\"data row8 col3\" >0.9776</td>\n",
       "                        <td id=\"T_84f7ef42_d8f3_11eb_93c7_f4dd29b78e07row8_col4\" class=\"data row8 col4\" >0.8252</td>\n",
       "                        <td id=\"T_84f7ef42_d8f3_11eb_93c7_f4dd29b78e07row8_col5\" class=\"data row8 col5\" >0.8950</td>\n",
       "                        <td id=\"T_84f7ef42_d8f3_11eb_93c7_f4dd29b78e07row8_col6\" class=\"data row8 col6\" >0.0756</td>\n",
       "                        <td id=\"T_84f7ef42_d8f3_11eb_93c7_f4dd29b78e07row8_col7\" class=\"data row8 col7\" >0.1131</td>\n",
       "                        <td id=\"T_84f7ef42_d8f3_11eb_93c7_f4dd29b78e07row8_col8\" class=\"data row8 col8\" >15.6460</td>\n",
       "            </tr>\n",
       "            <tr>\n",
       "                        <th id=\"T_84f7ef42_d8f3_11eb_93c7_f4dd29b78e07level0_row9\" class=\"row_heading level0 row9\" >knn</th>\n",
       "                        <td id=\"T_84f7ef42_d8f3_11eb_93c7_f4dd29b78e07row9_col0\" class=\"data row9 col0\" >K Neighbors Classifier</td>\n",
       "                        <td id=\"T_84f7ef42_d8f3_11eb_93c7_f4dd29b78e07row9_col1\" class=\"data row9 col1\" >0.7837</td>\n",
       "                        <td id=\"T_84f7ef42_d8f3_11eb_93c7_f4dd29b78e07row9_col2\" class=\"data row9 col2\" >0.5984</td>\n",
       "                        <td id=\"T_84f7ef42_d8f3_11eb_93c7_f4dd29b78e07row9_col3\" class=\"data row9 col3\" >0.9367</td>\n",
       "                        <td id=\"T_84f7ef42_d8f3_11eb_93c7_f4dd29b78e07row9_col4\" class=\"data row9 col4\" >0.8231</td>\n",
       "                        <td id=\"T_84f7ef42_d8f3_11eb_93c7_f4dd29b78e07row9_col5\" class=\"data row9 col5\" >0.8762</td>\n",
       "                        <td id=\"T_84f7ef42_d8f3_11eb_93c7_f4dd29b78e07row9_col6\" class=\"data row9 col6\" >0.0473</td>\n",
       "                        <td id=\"T_84f7ef42_d8f3_11eb_93c7_f4dd29b78e07row9_col7\" class=\"data row9 col7\" >0.0545</td>\n",
       "                        <td id=\"T_84f7ef42_d8f3_11eb_93c7_f4dd29b78e07row9_col8\" class=\"data row9 col8\" >3.4300</td>\n",
       "            </tr>\n",
       "            <tr>\n",
       "                        <th id=\"T_84f7ef42_d8f3_11eb_93c7_f4dd29b78e07level0_row10\" class=\"row_heading level0 row10\" >svm</th>\n",
       "                        <td id=\"T_84f7ef42_d8f3_11eb_93c7_f4dd29b78e07row10_col0\" class=\"data row10 col0\" >SVM - Linear Kernel</td>\n",
       "                        <td id=\"T_84f7ef42_d8f3_11eb_93c7_f4dd29b78e07row10_col1\" class=\"data row10 col1\" >0.7309</td>\n",
       "                        <td id=\"T_84f7ef42_d8f3_11eb_93c7_f4dd29b78e07row10_col2\" class=\"data row10 col2\" >0.0000</td>\n",
       "                        <td id=\"T_84f7ef42_d8f3_11eb_93c7_f4dd29b78e07row10_col3\" class=\"data row10 col3\" >0.8641</td>\n",
       "                        <td id=\"T_84f7ef42_d8f3_11eb_93c7_f4dd29b78e07row10_col4\" class=\"data row10 col4\" >0.8173</td>\n",
       "                        <td id=\"T_84f7ef42_d8f3_11eb_93c7_f4dd29b78e07row10_col5\" class=\"data row10 col5\" >0.8396</td>\n",
       "                        <td id=\"T_84f7ef42_d8f3_11eb_93c7_f4dd29b78e07row10_col6\" class=\"data row10 col6\" >-0.0016</td>\n",
       "                        <td id=\"T_84f7ef42_d8f3_11eb_93c7_f4dd29b78e07row10_col7\" class=\"data row10 col7\" >-0.0012</td>\n",
       "                        <td id=\"T_84f7ef42_d8f3_11eb_93c7_f4dd29b78e07row10_col8\" class=\"data row10 col8\" >0.5630</td>\n",
       "            </tr>\n",
       "            <tr>\n",
       "                        <th id=\"T_84f7ef42_d8f3_11eb_93c7_f4dd29b78e07level0_row11\" class=\"row_heading level0 row11\" >dt</th>\n",
       "                        <td id=\"T_84f7ef42_d8f3_11eb_93c7_f4dd29b78e07row11_col0\" class=\"data row11 col0\" >Decision Tree Classifier</td>\n",
       "                        <td id=\"T_84f7ef42_d8f3_11eb_93c7_f4dd29b78e07row11_col1\" class=\"data row11 col1\" >0.7282</td>\n",
       "                        <td id=\"T_84f7ef42_d8f3_11eb_93c7_f4dd29b78e07row11_col2\" class=\"data row11 col2\" >0.5587</td>\n",
       "                        <td id=\"T_84f7ef42_d8f3_11eb_93c7_f4dd29b78e07row11_col3\" class=\"data row11 col3\" >0.8257</td>\n",
       "                        <td id=\"T_84f7ef42_d8f3_11eb_93c7_f4dd29b78e07row11_col4\" class=\"data row11 col4\" >0.8391</td>\n",
       "                        <td id=\"T_84f7ef42_d8f3_11eb_93c7_f4dd29b78e07row11_col5\" class=\"data row11 col5\" >0.8324</td>\n",
       "                        <td id=\"T_84f7ef42_d8f3_11eb_93c7_f4dd29b78e07row11_col6\" class=\"data row11 col6\" >0.1143</td>\n",
       "                        <td id=\"T_84f7ef42_d8f3_11eb_93c7_f4dd29b78e07row11_col7\" class=\"data row11 col7\" >0.1144</td>\n",
       "                        <td id=\"T_84f7ef42_d8f3_11eb_93c7_f4dd29b78e07row11_col8\" class=\"data row11 col8\" >1.3730</td>\n",
       "            </tr>\n",
       "            <tr>\n",
       "                        <th id=\"T_84f7ef42_d8f3_11eb_93c7_f4dd29b78e07level0_row12\" class=\"row_heading level0 row12\" >nb</th>\n",
       "                        <td id=\"T_84f7ef42_d8f3_11eb_93c7_f4dd29b78e07row12_col0\" class=\"data row12 col0\" >Naive Bayes</td>\n",
       "                        <td id=\"T_84f7ef42_d8f3_11eb_93c7_f4dd29b78e07row12_col1\" class=\"data row12 col1\" >0.3467</td>\n",
       "                        <td id=\"T_84f7ef42_d8f3_11eb_93c7_f4dd29b78e07row12_col2\" class=\"data row12 col2\" >0.6066</td>\n",
       "                        <td id=\"T_84f7ef42_d8f3_11eb_93c7_f4dd29b78e07row12_col3\" class=\"data row12 col3\" >0.2008</td>\n",
       "                        <td id=\"T_84f7ef42_d8f3_11eb_93c7_f4dd29b78e07row12_col4\" class=\"data row12 col4\" >0.9993</td>\n",
       "                        <td id=\"T_84f7ef42_d8f3_11eb_93c7_f4dd29b78e07row12_col5\" class=\"data row12 col5\" >0.3343</td>\n",
       "                        <td id=\"T_84f7ef42_d8f3_11eb_93c7_f4dd29b78e07row12_col6\" class=\"data row12 col6\" >0.0838</td>\n",
       "                        <td id=\"T_84f7ef42_d8f3_11eb_93c7_f4dd29b78e07row12_col7\" class=\"data row12 col7\" >0.2088</td>\n",
       "                        <td id=\"T_84f7ef42_d8f3_11eb_93c7_f4dd29b78e07row12_col8\" class=\"data row12 col8\" >0.2020</td>\n",
       "            </tr>\n",
       "            <tr>\n",
       "                        <th id=\"T_84f7ef42_d8f3_11eb_93c7_f4dd29b78e07level0_row13\" class=\"row_heading level0 row13\" >qda</th>\n",
       "                        <td id=\"T_84f7ef42_d8f3_11eb_93c7_f4dd29b78e07row13_col0\" class=\"data row13 col0\" >Quadratic Discriminant Analysis</td>\n",
       "                        <td id=\"T_84f7ef42_d8f3_11eb_93c7_f4dd29b78e07row13_col1\" class=\"data row13 col1\" >0.3464</td>\n",
       "                        <td id=\"T_84f7ef42_d8f3_11eb_93c7_f4dd29b78e07row13_col2\" class=\"data row13 col2\" >0.6911</td>\n",
       "                        <td id=\"T_84f7ef42_d8f3_11eb_93c7_f4dd29b78e07row13_col3\" class=\"data row13 col3\" >0.2003</td>\n",
       "                        <td id=\"T_84f7ef42_d8f3_11eb_93c7_f4dd29b78e07row13_col4\" class=\"data row13 col4\" >0.9997</td>\n",
       "                        <td id=\"T_84f7ef42_d8f3_11eb_93c7_f4dd29b78e07row13_col5\" class=\"data row13 col5\" >0.3337</td>\n",
       "                        <td id=\"T_84f7ef42_d8f3_11eb_93c7_f4dd29b78e07row13_col6\" class=\"data row13 col6\" >0.0838</td>\n",
       "                        <td id=\"T_84f7ef42_d8f3_11eb_93c7_f4dd29b78e07row13_col7\" class=\"data row13 col7\" >0.2089</td>\n",
       "                        <td id=\"T_84f7ef42_d8f3_11eb_93c7_f4dd29b78e07row13_col8\" class=\"data row13 col8\" >0.5060</td>\n",
       "            </tr>\n",
       "    </tbody></table>"
      ],
      "text/plain": [
       "<pandas.io.formats.style.Styler at 0x2679d14e820>"
      ]
     },
     "metadata": {},
     "output_type": "display_data"
    }
   ],
   "source": [
    "best_model=compare_models()"
   ]
  },
  {
   "cell_type": "code",
   "execution_count": 3,
   "metadata": {},
   "outputs": [
    {
     "name": "stdout",
     "output_type": "stream",
     "text": [
      "Requirement already satisfied: jupyterlab in c:\\users\\lenovo\\anaconda3\\lib\\site-packages (2.2.6)\n",
      "Requirement already satisfied: notebook>=4.3.1 in c:\\users\\lenovo\\anaconda3\\lib\\site-packages (from jupyterlab) (6.1.4)\n",
      "Requirement already satisfied: tornado!=6.0.0,!=6.0.1,!=6.0.2 in c:\\users\\lenovo\\anaconda3\\lib\\site-packages (from jupyterlab) (6.0.4)\n",
      "Requirement already satisfied: jupyterlab_server<2.0,>=1.1.5 in c:\\users\\lenovo\\anaconda3\\lib\\site-packages (from jupyterlab) (1.2.0)\n",
      "Requirement already satisfied: jinja2>=2.10 in c:\\users\\lenovo\\anaconda3\\lib\\site-packages (from jupyterlab) (2.11.2)\n",
      "Requirement already satisfied: terminado>=0.8.3 in c:\\users\\lenovo\\anaconda3\\lib\\site-packages (from notebook>=4.3.1->jupyterlab) (0.9.1)\n",
      "Requirement already satisfied: prometheus-client in c:\\users\\lenovo\\anaconda3\\lib\\site-packages (from notebook>=4.3.1->jupyterlab) (0.8.0)\n",
      "Requirement already satisfied: nbconvert in c:\\users\\lenovo\\anaconda3\\lib\\site-packages (from notebook>=4.3.1->jupyterlab) (6.0.7)\n",
      "Requirement already satisfied: ipykernel in c:\\users\\lenovo\\anaconda3\\lib\\site-packages (from notebook>=4.3.1->jupyterlab) (5.3.4)\n",
      "Requirement already satisfied: nbformat in c:\\users\\lenovo\\anaconda3\\lib\\site-packages (from notebook>=4.3.1->jupyterlab) (5.0.8)\n",
      "Requirement already satisfied: jupyter-core>=4.6.1 in c:\\users\\lenovo\\anaconda3\\lib\\site-packages (from notebook>=4.3.1->jupyterlab) (4.6.3)\n",
      "Requirement already satisfied: jupyter-client>=5.3.4 in c:\\users\\lenovo\\anaconda3\\lib\\site-packages (from notebook>=4.3.1->jupyterlab) (6.1.7)\n",
      "Requirement already satisfied: argon2-cffi in c:\\users\\lenovo\\anaconda3\\lib\\site-packages (from notebook>=4.3.1->jupyterlab) (20.1.0)\n",
      "Requirement already satisfied: ipython-genutils in c:\\users\\lenovo\\anaconda3\\lib\\site-packages (from notebook>=4.3.1->jupyterlab) (0.2.0)\n",
      "Requirement already satisfied: pyzmq>=17 in c:\\users\\lenovo\\anaconda3\\lib\\site-packages (from notebook>=4.3.1->jupyterlab) (19.0.2)\n",
      "Requirement already satisfied: traitlets>=4.2.1 in c:\\users\\lenovo\\anaconda3\\lib\\site-packages (from notebook>=4.3.1->jupyterlab) (5.0.5)\n",
      "Requirement already satisfied: Send2Trash in c:\\users\\lenovo\\anaconda3\\lib\\site-packages (from notebook>=4.3.1->jupyterlab) (1.5.0)\n",
      "Requirement already satisfied: jsonschema>=3.0.1 in c:\\users\\lenovo\\anaconda3\\lib\\site-packages (from jupyterlab_server<2.0,>=1.1.5->jupyterlab) (3.2.0)\n",
      "Requirement already satisfied: json5 in c:\\users\\lenovo\\anaconda3\\lib\\site-packages (from jupyterlab_server<2.0,>=1.1.5->jupyterlab) (0.9.5)\n",
      "Requirement already satisfied: requests in c:\\users\\lenovo\\anaconda3\\lib\\site-packages (from jupyterlab_server<2.0,>=1.1.5->jupyterlab) (2.24.0)\n",
      "Requirement already satisfied: MarkupSafe>=0.23 in c:\\users\\lenovo\\anaconda3\\lib\\site-packages (from jinja2>=2.10->jupyterlab) (1.1.1)\n",
      "Requirement already satisfied: pywinpty>=0.5 in c:\\users\\lenovo\\anaconda3\\lib\\site-packages (from terminado>=0.8.3->notebook>=4.3.1->jupyterlab) (0.5.7)\n",
      "Requirement already satisfied: jupyterlab-pygments in c:\\users\\lenovo\\anaconda3\\lib\\site-packages (from nbconvert->notebook>=4.3.1->jupyterlab) (0.1.2)\n",
      "Requirement already satisfied: defusedxml in c:\\users\\lenovo\\anaconda3\\lib\\site-packages (from nbconvert->notebook>=4.3.1->jupyterlab) (0.6.0)\n",
      "Requirement already satisfied: pandocfilters>=1.4.1 in c:\\users\\lenovo\\anaconda3\\lib\\site-packages (from nbconvert->notebook>=4.3.1->jupyterlab) (1.4.3)\n",
      "Requirement already satisfied: testpath in c:\\users\\lenovo\\anaconda3\\lib\\site-packages (from nbconvert->notebook>=4.3.1->jupyterlab) (0.4.4)\n",
      "Requirement already satisfied: pygments>=2.4.1 in c:\\users\\lenovo\\anaconda3\\lib\\site-packages (from nbconvert->notebook>=4.3.1->jupyterlab) (2.7.2)\n",
      "Requirement already satisfied: nbclient<0.6.0,>=0.5.0 in c:\\users\\lenovo\\anaconda3\\lib\\site-packages (from nbconvert->notebook>=4.3.1->jupyterlab) (0.5.1)\n",
      "Requirement already satisfied: entrypoints>=0.2.2 in c:\\users\\lenovo\\anaconda3\\lib\\site-packages (from nbconvert->notebook>=4.3.1->jupyterlab) (0.3)\n",
      "Requirement already satisfied: bleach in c:\\users\\lenovo\\anaconda3\\lib\\site-packages (from nbconvert->notebook>=4.3.1->jupyterlab) (3.2.1)\n",
      "Requirement already satisfied: mistune<2,>=0.8.1 in c:\\users\\lenovo\\anaconda3\\lib\\site-packages (from nbconvert->notebook>=4.3.1->jupyterlab) (0.8.4)\n",
      "Requirement already satisfied: ipython>=5.0.0 in c:\\users\\lenovo\\anaconda3\\lib\\site-packages (from ipykernel->notebook>=4.3.1->jupyterlab) (7.19.0)\n",
      "Requirement already satisfied: pywin32>=1.0; sys_platform == \"win32\" in c:\\users\\lenovo\\anaconda3\\lib\\site-packages (from jupyter-core>=4.6.1->notebook>=4.3.1->jupyterlab) (227)\n",
      "Requirement already satisfied: python-dateutil>=2.1 in c:\\users\\lenovo\\anaconda3\\lib\\site-packages (from jupyter-client>=5.3.4->notebook>=4.3.1->jupyterlab) (2.8.1)\n",
      "Requirement already satisfied: six in c:\\users\\lenovo\\anaconda3\\lib\\site-packages (from argon2-cffi->notebook>=4.3.1->jupyterlab) (1.15.0)\n",
      "Requirement already satisfied: cffi>=1.0.0 in c:\\users\\lenovo\\anaconda3\\lib\\site-packages (from argon2-cffi->notebook>=4.3.1->jupyterlab) (1.14.3)\n",
      "Requirement already satisfied: setuptools in c:\\users\\lenovo\\anaconda3\\lib\\site-packages (from jsonschema>=3.0.1->jupyterlab_server<2.0,>=1.1.5->jupyterlab) (50.3.1.post20201107)\n",
      "Requirement already satisfied: pyrsistent>=0.14.0 in c:\\users\\lenovo\\anaconda3\\lib\\site-packages (from jsonschema>=3.0.1->jupyterlab_server<2.0,>=1.1.5->jupyterlab) (0.17.3)\n",
      "Requirement already satisfied: attrs>=17.4.0 in c:\\users\\lenovo\\anaconda3\\lib\\site-packages (from jsonschema>=3.0.1->jupyterlab_server<2.0,>=1.1.5->jupyterlab) (20.3.0)\n",
      "Requirement already satisfied: urllib3!=1.25.0,!=1.25.1,<1.26,>=1.21.1 in c:\\users\\lenovo\\anaconda3\\lib\\site-packages (from requests->jupyterlab_server<2.0,>=1.1.5->jupyterlab) (1.25.11)\n",
      "Requirement already satisfied: chardet<4,>=3.0.2 in c:\\users\\lenovo\\anaconda3\\lib\\site-packages (from requests->jupyterlab_server<2.0,>=1.1.5->jupyterlab) (3.0.4)\n",
      "Requirement already satisfied: certifi>=2017.4.17 in c:\\users\\lenovo\\anaconda3\\lib\\site-packages (from requests->jupyterlab_server<2.0,>=1.1.5->jupyterlab) (2020.6.20)\n",
      "Requirement already satisfied: idna<3,>=2.5 in c:\\users\\lenovo\\anaconda3\\lib\\site-packages (from requests->jupyterlab_server<2.0,>=1.1.5->jupyterlab) (2.10)\n",
      "Requirement already satisfied: async-generator in c:\\users\\lenovo\\anaconda3\\lib\\site-packages (from nbclient<0.6.0,>=0.5.0->nbconvert->notebook>=4.3.1->jupyterlab) (1.10)\n",
      "Requirement already satisfied: nest-asyncio in c:\\users\\lenovo\\anaconda3\\lib\\site-packages (from nbclient<0.6.0,>=0.5.0->nbconvert->notebook>=4.3.1->jupyterlab) (1.4.2)\n",
      "Requirement already satisfied: packaging in c:\\users\\lenovo\\anaconda3\\lib\\site-packages (from bleach->nbconvert->notebook>=4.3.1->jupyterlab) (20.4)\n",
      "Requirement already satisfied: webencodings in c:\\users\\lenovo\\anaconda3\\lib\\site-packages (from bleach->nbconvert->notebook>=4.3.1->jupyterlab) (0.5.1)\n",
      "Requirement already satisfied: backcall in c:\\users\\lenovo\\anaconda3\\lib\\site-packages (from ipython>=5.0.0->ipykernel->notebook>=4.3.1->jupyterlab) (0.2.0)\n",
      "Requirement already satisfied: jedi>=0.10 in c:\\users\\lenovo\\anaconda3\\lib\\site-packages (from ipython>=5.0.0->ipykernel->notebook>=4.3.1->jupyterlab) (0.17.1)\n",
      "Requirement already satisfied: colorama; sys_platform == \"win32\" in c:\\users\\lenovo\\anaconda3\\lib\\site-packages (from ipython>=5.0.0->ipykernel->notebook>=4.3.1->jupyterlab) (0.4.4)\n",
      "Requirement already satisfied: prompt-toolkit!=3.0.0,!=3.0.1,<3.1.0,>=2.0.0 in c:\\users\\lenovo\\anaconda3\\lib\\site-packages (from ipython>=5.0.0->ipykernel->notebook>=4.3.1->jupyterlab) (3.0.8)\n",
      "Requirement already satisfied: pickleshare in c:\\users\\lenovo\\anaconda3\\lib\\site-packages (from ipython>=5.0.0->ipykernel->notebook>=4.3.1->jupyterlab) (0.7.5)\n",
      "Requirement already satisfied: decorator in c:\\users\\lenovo\\anaconda3\\lib\\site-packages (from ipython>=5.0.0->ipykernel->notebook>=4.3.1->jupyterlab) (4.4.2)\n",
      "Requirement already satisfied: pycparser in c:\\users\\lenovo\\anaconda3\\lib\\site-packages (from cffi>=1.0.0->argon2-cffi->notebook>=4.3.1->jupyterlab) (2.20)\n",
      "Requirement already satisfied: pyparsing>=2.0.2 in c:\\users\\lenovo\\anaconda3\\lib\\site-packages (from packaging->bleach->nbconvert->notebook>=4.3.1->jupyterlab) (2.4.7)\n",
      "Requirement already satisfied: parso<0.8.0,>=0.7.0 in c:\\users\\lenovo\\anaconda3\\lib\\site-packages (from jedi>=0.10->ipython>=5.0.0->ipykernel->notebook>=4.3.1->jupyterlab) (0.7.0)\n",
      "Requirement already satisfied: wcwidth in c:\\users\\lenovo\\anaconda3\\lib\\site-packages (from prompt-toolkit!=3.0.0,!=3.0.1,<3.1.0,>=2.0.0->ipython>=5.0.0->ipykernel->notebook>=4.3.1->jupyterlab) (0.2.5)\n"
     ]
    }
   ],
   "source": [
    "!pip install jupyterlab"
   ]
  },
  {
   "cell_type": "code",
   "execution_count": 5,
   "metadata": {},
   "outputs": [
    {
     "ename": "NameError",
     "evalue": "name 'jupyter' is not defined",
     "output_type": "error",
     "traceback": [
      "\u001b[1;31m---------------------------------------------------------------------------\u001b[0m",
      "\u001b[1;31mNameError\u001b[0m                                 Traceback (most recent call last)",
      "\u001b[1;32m<ipython-input-5-a428f9218f53>\u001b[0m in \u001b[0;36m<module>\u001b[1;34m\u001b[0m\n\u001b[1;32m----> 1\u001b[1;33m \u001b[0mjupyter\u001b[0m \u001b[1;33m-\u001b[0m\u001b[0mlab\u001b[0m\u001b[1;33m\u001b[0m\u001b[1;33m\u001b[0m\u001b[0m\n\u001b[0m",
      "\u001b[1;31mNameError\u001b[0m: name 'jupyter' is not defined"
     ]
    }
   ],
   "source": [
    "jupyter -lab"
   ]
  },
  {
   "cell_type": "code",
   "execution_count": null,
   "metadata": {},
   "outputs": [],
   "source": []
  }
 ],
 "metadata": {
  "kernelspec": {
   "display_name": "Python 3",
   "language": "python",
   "name": "python3"
  },
  "language_info": {
   "codemirror_mode": {
    "name": "ipython",
    "version": 3
   },
   "file_extension": ".py",
   "mimetype": "text/x-python",
   "name": "python",
   "nbconvert_exporter": "python",
   "pygments_lexer": "ipython3",
   "version": "3.8.5"
  }
 },
 "nbformat": 4,
 "nbformat_minor": 4
}
